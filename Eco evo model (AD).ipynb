{
 "cells": [
  {
   "cell_type": "code",
   "execution_count": 1,
   "metadata": {},
   "outputs": [],
   "source": [
    "from functools import partial\n",
    "import numpy as np\n",
    "import scipy\n",
    "from scipy.integrate import odeint\n",
    "import matplotlib as mpl\n",
    "import matplotlib.pyplot as plt\n",
    "import pandas as pd\n",
    "from matplotlib import colors as c\n",
    "import sympy as sp\n",
    "import scipy.optimize as op\n",
    "from matplotlib import image"
   ]
  },
  {
   "cell_type": "code",
   "execution_count": 2,
   "metadata": {},
   "outputs": [],
   "source": [
    "#Parameters \n",
    "b = 10\n",
    "p = 0.5\n",
    "a0= 0.01\n",
    "W0 = 1\n",
    "q0 = 0.005\n",
    "zb = 10\n",
    "hs = 0.1\n",
    "hf = 0.2\n",
    "rs = r = 0.5\n",
    "rf = 0.5\n",
    "ls = 0.5\n",
    "lf = 0.2\n",
    "\n",
    "maxl = 0.05\n",
    "minl = 0.1\n",
    "pl =10\n",
    "zt = 2"
   ]
  },
  {
   "cell_type": "code",
   "execution_count": 4,
   "metadata": {},
   "outputs": [],
   "source": [
    "#Defining functions\n",
    "\n",
    "def a(z,zm): #Shading effect\n",
    "    a = 2*a0 * np.exp(b*(z-zm))/(1+np.exp(b*(z-zm)) )\n",
    "    return(a)\n",
    "\n",
    "def q(z):  #Nutrients impact\n",
    "    q = q0* np.exp(p*z)\n",
    "    return q\n",
    "\n",
    "def W(z): #Light attenuation\n",
    "    W = W0*np.exp(w*z)- W0\n",
    "    return W\n",
    "\n",
    "def Ls(z) : #Mortality of submerged \n",
    "    res = maxl -(maxl-minl)*zt**pl/(z**pl + zt**pl)\n",
    "    return res\n",
    "\n",
    "def Lf(z) : #Mortality of floating \n",
    "    res = minl -(minl-maxl)*zt**pl/(z**pl + zt**pl)\n",
    "    return res\n",
    "\n",
    "def nm(zm, z,zf, S,F,Sm, Nu0, u):  #Nutrient availability for mutant\n",
    "    res = Nu2(zm,Nu0, u)/(1 + q(z)*S + q(zm)*Sm + q(zf)*F)\n",
    "    return res\n",
    "\n",
    "def n(z,zf, zm, S,F,Sm, Nu0, u):  #Nutrient availability for submerged\n",
    "    res = Nu2(z, Nu0, u)/(1 + q(z)*S + q(zm)*Sm + q(zf)*F)\n",
    "    return res\n",
    "\n",
    "def nf(z,zf, zm, S,F,Sm,Nu0, u):  #Nutrient availability for floating\n",
    "    res = Nu2(zf, Nu0, u)/(1 + q(z)*S + q(zm)*Sm + q(zf)*F)\n",
    "    return res\n",
    "\n",
    "def Nu(z,Nu0, u):  #Nutrient concentration\n",
    "    nu = (Nu0 / (u* np.sqrt(2*np.pi))) * np.exp(-(zb-z)**2/(u**2))\n",
    "    return nu\n",
    "\n",
    "def f(pop,t,z,zf,zm,Nu0,u):  #Main system function (EDO)\n",
    "    S = pop[0]\n",
    "    F = pop[1]\n",
    "    Sm = pop[2]\n",
    "    f0 =  r*S*n2(z,zf,zm,S,F,Sm, Nu0, u)/(n2(z,zf,zm,S,F,Sm, Nu0, u) +hs)* 1/(1+ a(z,z)*S+a(z,zm)*Sm+ a(z,zf)*F+W(z)) - Ls(z) *S\n",
    "    f1 =  r*F*nf2(z,zf,zm,S,F,Sm, Nu0, u)/(nf2(z,zf,zm,S,F,Sm, Nu0, u) + hf)* 1/(1+ a(zf,z)*S+a(0,0)*F+W(zf)) - Lf(zf)*F\n",
    "    f2= r*Sm*nm2(zm,z,zf,S,F,Sm, Nu0, u)/(nm2(zm,z,zf,S,F,Sm, Nu0, u) +hs)* 1/(1+ a(zm,z)*S+a(zm,zm)*Sm+ a(zm,0)*F+W(zm)) - Ls(zm)*Sm\n",
    "    f = [f0, f1,f2]\n",
    "    return f\n",
    "\n",
    "\n",
    "def F2(POP,z, Nu0, u): #Main function 2 (without mutant)\n",
    "    S = POP[0]\n",
    "    F = POP[1]\n",
    "    f0 =  rs*S*ns(z,S,F, Nu0, u)/(ns(z, S,F,Nu0, u) +hs)* 1/(1+ a(z,z)*S+ a(z,0)*F+W(z)) - Ls(z) *S\n",
    "    f1 =  rf*F*nf1(z,S,F, Nu0, u)/(nf1(z,S,F, Nu0, u) + hf)* 1/(1+  a(0,0)*F+W(0)) - Lf(0) *F\n",
    "    f = [f0, f1]\n",
    "    return f\n",
    "\n",
    "def jacF2(z, S,F, Nu0, u): #Jacobian\n",
    "    a1 = -rs*Nu(z)*S*( ( hs*q(z)*( 1 + a0*S +a(z,0)*F +W(z)) + a0*(Nu(z)+ hs*(1+ q(0)*F +q(z) *S))) / ((Nu(z)+hs *(1+ q(0)*F +q(z) *S))*(1 + a0*S +a(z,0)*F +W(z)))**2  ) + r*ns(z,S,F, Nu0, u)/(ns(z, S,F,Nu0, u) +hs)* 1/(1+ a(z,z)*S+ a(z,0)*F+W(z)) - Ls(z)\n",
    "    b1 = -rs*Nu(z)*S*( ( hs*q(0)*( 1 + a0*S +a(z,0)*F +W(z)) + a(z,0)*(Nu(z)+ hs*(1+ q(0)*F +q(z) *S))) / ((Nu(z)+hs *(1+ q(0)*F +q(z) *S))*(1 + a0*S +a(z,0)*F +W(z)))**2  )\n",
    "    d1 = -rf*Nu(0)*F*( ( hf*q(0)*( 1 + a0*F ) + a0*(Nu(0)+ hf*(1+ q(0)*F +q(z) *S))) / ((Nu(0)+hf *(1+ q(0)*F +q(z) *S))*(1 + a0*F +W(0)))**2  ) + r*nf1(z,S,F, Nu0, u)/(nf1(z,S,F, Nu0, u) + hf)* 1/(1+  a(0,0)*F+W(0)) - Lf(0)\n",
    "    c1 = -rf*Nu(0)*F*( ( hf*q(z)*( 1 + a0*F ) ) / ((Nu(0)+hf *(1+ q(0)*F +q(z) *S))*(1 + a0*F +W(0)))**2  )\n",
    "    \n",
    "    jac = np.array([[a1,b1], [c1,d1]])\n",
    "     \n",
    "    return jac "
   ]
  },
  {
   "cell_type": "code",
   "execution_count": null,
   "metadata": {},
   "outputs": [],
   "source": [
    "#Ranges of parameters study\n",
    "Nu_val = np.linspace(0.5,100,100)\n",
    "u_val = np.linspace(0.1,10,300)\n",
    "zm_val = np.linspace(0,zb,300)\n",
    "time = np.linspace(0, 8000, 100)"
   ]
  },
  {
   "cell_type": "code",
   "execution_count": 28,
   "metadata": {},
   "outputs": [],
   "source": [
    "#Defining parameters choice of ecological study\n",
    "Nu0=10\n",
    "b = 10\n",
    "w=0.1\n",
    "zm=5\n",
    "N = 300"
   ]
  },
  {
   "cell_type": "code",
   "execution_count": 29,
   "metadata": {},
   "outputs": [],
   "source": [
    "#Ecological steady states \n",
    "popF = np.eye(N) \n",
    "popS = np.eye(N) \n",
    "\n",
    "for i in range(N):\n",
    "    u = u_val[i]\n",
    "    F= S = 100\n",
    "    for j in range(N): \n",
    "        z= zm_val[j]\n",
    "        traj = odeint(partial(f, z=z, zm=zm,Nu0 = Nu0, u =u), y0= [S, F, 0], t=time)\n",
    "        S =  traj[-1,0] \n",
    "        F = traj[-1,1]\n",
    "        popS[j,i] = S\n",
    "        popF[j,i] = F"
   ]
  },
  {
   "cell_type": "code",
   "execution_count": 30,
   "metadata": {
    "scrolled": true
   },
   "outputs": [],
   "source": [
    "#Alternative stable states states \n",
    "popF2 = np.eye(N) \n",
    "popS2 = np.eye(N) \n",
    "\n",
    "for i in range(N):\n",
    "    u = u_val[i]\n",
    "    F= S = 100\n",
    "    for j in range(N): \n",
    "        z = zm_val[(N-1)-j]  \n",
    "        traj = odeint(partial(f2, z=z, zm=zm,Nu0 = Nu0, u =u), y0= [S, F, 0], t=time)\n",
    "        S =  traj[-1,0]\n",
    "        F = traj[-1,1]\n",
    "        popS2[(N-1)-j,i] = S\n",
    "        popF2[(N-1)-j,i] = F"
   ]
  },
  {
   "cell_type": "code",
   "execution_count": 31,
   "metadata": {},
   "outputs": [],
   "source": [
    "#Determining type of ecological equilibrium (coexistence, only S ...)\n",
    "coex = np.eye(N)\n",
    "for i in range(N):\n",
    "    for j in range(N): \n",
    "            if popF[i,j] > 1:\n",
    "                if popS[i,j] > 1:\n",
    "                    coex[i,j] =4 \n",
    "                else:\n",
    "                    coex[i,j] = 1\n",
    "            else:\n",
    "                if popS[i,j] > 1:\n",
    "                    coex[i,j] = 2\n",
    "                else:\n",
    "                    coex[i,j] = 0"
   ]
  },
  {
   "cell_type": "code",
   "execution_count": 32,
   "metadata": {},
   "outputs": [],
   "source": [
    "#Determining type of bistability \n",
    "for i in range(N):\n",
    "    for j in range(N): \n",
    "            if (popF[i,j] > 1 and popS[i,j] < 1 and popS2[i,j] > 1 and popF2[i,j] > 1) or (popF2[i,j] > 1 and popS2[i,j] < 1 and popS[i,j] > 1 and popF[i,j] > 1) : \n",
    "                coex[i,j] = 5\n",
    "            elif (popF[i,j] > 1 and popS[i,j] < 1 and popS2[i,j] > 1 and popF2[i,j] < 1) or  (popF2[i,j] > 1 and popS2[i,j] < 1 and popS[i,j] > 1 and popF[i,j] < 1) : \n",
    "                coex[i,j] = 3"
   ]
  },
  {
   "cell_type": "code",
   "execution_count": 34,
   "metadata": {},
   "outputs": [
    {
     "data": {
      "text/plain": [
       "0.3"
      ]
     },
     "execution_count": 34,
     "metadata": {},
     "output_type": "execute_result"
    }
   ],
   "source": [
    "import matplotlib.patches as mpatches\n",
    "#Bifurcation diagram\n",
    "\n",
    "plt.figure(figsize=(8,5))\n",
    "im = plt.imshow(coex,cmap='tab20',extent =[0, 10, 10,0],aspect='auto')\n",
    "values = np.unique(coex.ravel())\n",
    "colors = [ im.cmap(im.norm(value)) for value in values]\n",
    "labels = ['I:Unfeasible', 'II:Only floating plants (F)', 'III:Only submerged macrophytes (S)','IV:Bistability Only S/Only F', 'V:Coexistence', 'VI:Bistability coexistence/Only F']\n",
    "# create a patch (proxy artist) for every color \n",
    "patches = [ mpatches.Patch(color=colors[i], label=labels[i]) for i in range(len(values))]\n",
    "# put those patched as legend-handles into the legend\n",
    "first_legend= plt.legend(handles=patches, bbox_to_anchor=(1.05, 1), loc=2, borderaxespad=0. )\n",
    "\n",
    "\n",
    "\n",
    "plt.xlabel('nutrients diffusion (u)')\n",
    "plt.yticks([0,2,4,6,8,10], ['surface of the lake 0',2,4,6,8,'bottom of the lake 10'], color='black')\n",
    "plt.ylabel('Submerged plants depth trait (z)')\n",
    "\n",
    "plt.show()"
   ]
  },
  {
   "cell_type": "code",
   "execution_count": null,
   "metadata": {},
   "outputs": [],
   "source": [
    "#AD : defining fitness of mutant Sm and fitness gradient \n",
    "from scipy.misc import derivative\n",
    "H = 1e-6\n",
    "\n",
    "def taux_sm(zm, z, F,S):\n",
    "    taux = r*nm(zm,z,S,F,0)/(nm(zm,z,S,F,0) +hs)* 1/(1+ a(zm,z)*S+ a(zm,0)*F+W(zm)) - Ls(zm)\n",
    "    return taux\n",
    "\n",
    "\n",
    "def GradF(zm,z): #Fitness Gradient \n",
    "    j = np.where(u_val >= u)[0][0]\n",
    "    k = np.where(zm_val >= z)[0][0]\n",
    "    if popS[i,j] > 1 : \n",
    "        S = popS[k,j]\n",
    "        F = popF[k,j] \n",
    "        der = derivative(partial(taux_sm, z=z, F=F, S=S), zm, dx=10e-6)\n",
    "    else : \n",
    "        S = popS2[k,j]\n",
    "        F = popF2[k,j] \n",
    "        der = derivative(partial(taux_sm, z=z, F=F, S=S), zm, dx=10e-6)\n",
    "            \n",
    "    return der"
   ]
  },
  {
   "cell_type": "code",
   "execution_count": null,
   "metadata": {},
   "outputs": [],
   "source": [
    "#Second derivatives for type of singular strategies \n",
    "\n",
    "def dzdzm(zm,z):\n",
    "    der = derivative(partial(dz, z=z), zm, dx=10e-6)\n",
    "    return der\n",
    "\n",
    "def dzmdzm(zm,z):\n",
    "    der = (GradF(zm+H,z) - GradF(zm,z))/H\n",
    "    return der\n",
    "\n",
    "def dz(zm,z):\n",
    "    der = (taux_sm(zm,z+H,F,S) - taux_sm(zm,z,F,S))/H\n",
    "    return der\n",
    "\n",
    "def dzdz(zm,z):\n",
    "    der2 = (dz(zm,z+H) - dz(zm,z))/H\n",
    "    return der2\n",
    "\n",
    "def dzmdz(zm,z):\n",
    "    der = (GradF(zm,z+H) - GradF(zm,z))/H\n",
    "    return der"
   ]
  },
  {
   "cell_type": "code",
   "execution_count": null,
   "metadata": {},
   "outputs": [],
   "source": [
    "#Dichotomy function to determine singular strategies \n",
    "def dicho(f, a, b, eps=1e-8):\n",
    "    if f(a)*f(b) > 0 : \n",
    "        return 0  \n",
    "    else :\n",
    "        while abs(b-a) > eps:    \n",
    "            c = (a+b)/2\n",
    "            if f(a)*f(c) >= 0:\n",
    "                a=c\n",
    "            else:\n",
    "                b=c\n",
    "        return b "
   ]
  },
  {
   "cell_type": "code",
   "execution_count": null,
   "metadata": {},
   "outputs": [],
   "source": [
    "#Finding singular strategies(first ones)\n",
    "singP = np.zeros(N)\n",
    "\n",
    "for i in range(N):\n",
    "    u = u_val[i]\n",
    "    sing = dicho(grad,0.3,10)\n",
    "    singP[i]= sing\n",
    "\n",
    "#Finding singular strategies(second ones) \n",
    "\n",
    "singP2 = np.zeros(N)\n",
    "\n",
    "for i in range(int(N/2)):\n",
    "    u = u_val[i]\n",
    "    sing = dicho(grad,0,10)\n",
    "    singP2[i]= sing\n",
    "\n",
    "    \n",
    "for i in range(int(N/2),N):\n",
    "    u = u_val[i]\n",
    "    sing = dicho(grad,0,1)\n",
    "    singP2[i]= sing\n",
    "  "
   ]
  },
  {
   "cell_type": "code",
   "execution_count": null,
   "metadata": {},
   "outputs": [],
   "source": [
    "#Type of singular strategies \n",
    "stra= np.zeros(N)\n",
    "for n in range(N) : \n",
    "    u = u_val[n]\n",
    "    z = singP[n] \n",
    "    ess = dzmdzm(z, z)\n",
    "    css  = dzmdz(z,z)\n",
    "    if ess < 0 : \n",
    "        if css <0 : \n",
    "            stra[n] = 4\n",
    "        else : \n",
    "            stra[n] = 1\n",
    "    elif css < 0 : \n",
    "        stra[n] = 3\n",
    "        \n",
    "stra2= np.zeros(N)\n",
    "for n in range(N) : \n",
    "    u = u_val[n]\n",
    "    z = singP2[n] \n",
    "    ess = dzmdzm(z, z)\n",
    "    css  = dzmdz(z,z)\n",
    "    if ess < 0 : \n",
    "        if css <0 : \n",
    "            stra2[n] = 4\n",
    "        else : \n",
    "            stra2[n] = 1\n",
    "    elif css < 0 : \n",
    "        stra2[n] = 3"
   ]
  },
  {
   "cell_type": "code",
   "execution_count": 38,
   "metadata": {},
   "outputs": [],
   "source": [
    "#Regrouping singular strategies (CSS, BP ..)\n",
    "u_blanc = u_val[np.where(stra == 4)]\n",
    "sing_blanc = singP[np.where(stra == 4)]\n",
    "\n",
    "u_red = u_val[np.where(stra== 3)]\n",
    "sing_red = singP[np.where(stra == 3)]\n",
    "\n",
    "u_black = u_val[np.where(stra2 == 0)]\n",
    "sing_black = singP2[np.where(stra2 == 0)]"
   ]
  },
  {
   "cell_type": "code",
   "execution_count": 45,
   "metadata": {},
   "outputs": [],
   "source": [
    "#Import final mean traits and range of traits from structured pop model\n",
    "trait_min= np.genfromtxt(fname='trait min w=0.1 hill')\n",
    "trait_max= np.genfromtxt(fname='trait max w=0.1 hill')\n",
    "trait_mean = np.genfromtxt(fname='trait mean w=0.1 hill')"
   ]
  },
  {
   "cell_type": "code",
   "execution_count": 23,
   "metadata": {},
   "outputs": [],
   "source": [
    "trait_mincoevo= np.genfromtxt(fname='trait min coevo w=0.1 hill')\n",
    "trait_maxcoevo= np.genfromtxt(fname='trait max coevo w=0.1 hill')\n",
    "trait_meancoevo = np.genfromtxt(fname='trait mean coevo w=0.1 hill')"
   ]
  },
  {
   "cell_type": "code",
   "execution_count": 45,
   "metadata": {
    "scrolled": true
   },
   "outputs": [
    {
     "ename": "NameError",
     "evalue": "name 'uval2' is not defined",
     "output_type": "error",
     "traceback": [
      "\u001b[0;31m---------------------------------------------------------------------------\u001b[0m",
      "\u001b[0;31mNameError\u001b[0m                                 Traceback (most recent call last)",
      "\u001b[0;32m<ipython-input-45-26bbe141ba84>\u001b[0m in \u001b[0;36m<module>\u001b[0;34m\u001b[0m\n\u001b[1;32m      5\u001b[0m \u001b[0;34m\u001b[0m\u001b[0m\n\u001b[1;32m      6\u001b[0m \u001b[0mfig2\u001b[0m\u001b[0;34m,\u001b[0m \u001b[0max2\u001b[0m \u001b[0;34m=\u001b[0m \u001b[0mplt\u001b[0m\u001b[0;34m.\u001b[0m\u001b[0msubplots\u001b[0m\u001b[0;34m(\u001b[0m\u001b[0;36m1\u001b[0m\u001b[0;34m,\u001b[0m\u001b[0;36m1\u001b[0m\u001b[0;34m)\u001b[0m\u001b[0;34m\u001b[0m\u001b[0;34m\u001b[0m\u001b[0m\n\u001b[0;32m----> 7\u001b[0;31m \u001b[0max2\u001b[0m\u001b[0;34m.\u001b[0m\u001b[0mplot\u001b[0m\u001b[0;34m(\u001b[0m\u001b[0muval2\u001b[0m\u001b[0;34m,\u001b[0m \u001b[0mmeancoevo\u001b[0m\u001b[0;34m,\u001b[0m \u001b[0mc\u001b[0m\u001b[0;34m=\u001b[0m\u001b[0;34m'g'\u001b[0m\u001b[0;34m)\u001b[0m\u001b[0;34m\u001b[0m\u001b[0;34m\u001b[0m\u001b[0m\n\u001b[0m\u001b[1;32m      8\u001b[0m \u001b[0max2\u001b[0m\u001b[0;34m.\u001b[0m\u001b[0mfill_between\u001b[0m\u001b[0;34m(\u001b[0m\u001b[0muval2\u001b[0m\u001b[0;34m,\u001b[0m \u001b[0mmaxcoevo\u001b[0m\u001b[0;34m,\u001b[0m\u001b[0mmincoevo\u001b[0m\u001b[0;34m,\u001b[0m \u001b[0mcolor\u001b[0m\u001b[0;34m=\u001b[0m\u001b[0;34m'palegoldenrod'\u001b[0m\u001b[0;34m)\u001b[0m\u001b[0;34m\u001b[0m\u001b[0;34m\u001b[0m\u001b[0m\n\u001b[1;32m      9\u001b[0m \u001b[0max2\u001b[0m\u001b[0;34m.\u001b[0m\u001b[0minvert_yaxis\u001b[0m\u001b[0;34m(\u001b[0m\u001b[0;34m)\u001b[0m\u001b[0;34m\u001b[0m\u001b[0;34m\u001b[0m\u001b[0m\n",
      "\u001b[0;31mNameError\u001b[0m: name 'uval2' is not defined"
     ]
    },
    {
     "data": {
      "image/png": "[encoded data removed]",
      "text/plain": [
       "<Figure size 432x288 with 1 Axes>"
      ]
     },
     "metadata": {
      "needs_background": "light"
     },
     "output_type": "display_data"
    },
    {
     "data": {
      "image/png": "[encoded data removed]",
      "text/plain": [
       "<Figure size 432x288 with 1 Axes>"
      ]
     },
     "metadata": {
      "needs_background": "light"
     },
     "output_type": "display_data"
    }
   ],
   "source": [
    "fig1, ax = plt.subplots(1,1)\n",
    "ax.plot(np.linspace(0.1,10,100), trait_mean, c='orange')\n",
    "ax.fill_between(np.linspace(0.1,10,1000)[np.where(trait_min > 0)], trait_max[np.where(trait_min > 0)], trait_min[np.where(trait_min > 0)],hatch='X')\n",
    "ax.invert_yaxis()\n",
    "\n",
    "fig2, ax2 = plt.subplots(1,1)\n",
    "ax2.plot(uval2, meancoevo, c='g')\n",
    "ax2.fill_between(uval2, maxcoevo,mincoevo, color='palegoldenrod')\n",
    "ax2.invert_yaxis()"
   ]
  },
  {
   "cell_type": "code",
   "execution_count": 18,
   "metadata": {},
   "outputs": [],
   "source": [
    "maxcoevo = np.append(trait_maxcoevo[np.where(trait_mincoevo > 0)],6.36)"
   ]
  },
  {
   "cell_type": "code",
   "execution_count": 19,
   "metadata": {},
   "outputs": [],
   "source": [
    "uval2 = np.append(uval2 , 7.5)"
   ]
  },
  {
   "cell_type": "code",
   "execution_count": 20,
   "metadata": {},
   "outputs": [],
   "source": [
    "meancoevo = np.append(meancoevo,3.2)\n",
    "mincoevo = np.append(mincoevo,2.4)\n",
    "maxcoevo = np.append(maxcoevo,6)"
   ]
  },
  {
   "cell_type": "code",
   "execution_count": 123,
   "metadata": {},
   "outputs": [
    {
     "data": {
      "text/plain": [
       "Text(0, 0.5, 'S pop size')"
      ]
     },
     "execution_count": 123,
     "metadata": {},
     "output_type": "execute_result"
    },
    {
     "data": {
      "image/png": "[encoded data removed]",
      "text/plain": [
       "<Figure size 432x288 with 1 Axes>"
      ]
     },
     "metadata": {
      "needs_background": "light"
     },
     "output_type": "display_data"
    }
   ],
   "source": [
    "i = 800\n",
    "plt.plot(zm_val, popS[:,i], 'r')\n",
    "plt.plot(zm_val, popS2[:,i],'r')\n",
    "\n",
    "plt.plot(zm_val, popF[:,i], 'b')\n",
    "plt.plot(zm_val, popF2[:,i],'b')\n",
    "\n",
    "\n",
    "plt.xlabel('trait z')\n",
    "plt.ylabel('S pop size')"
   ]
  },
  {
   "cell_type": "code",
   "execution_count": null,
   "metadata": {},
   "outputs": [],
   "source": [
    "np.savetxt('colors.txt',colors)"
   ]
  },
  {
   "cell_type": "code",
   "execution_count": 353,
   "metadata": {},
   "outputs": [],
   "source": [
    "finalpopS = np.zeros(100)\n",
    "finalpopF = np.zeros(100)\n",
    "for i in range(100) : \n",
    "    z = singP[i] \n",
    "    k = int(z*10)\n",
    "    finalpopS[i] = popS[k,i]\n",
    "    finalpopF[i] = popF[k,i]"
   ]
  },
  {
   "cell_type": "code",
   "execution_count": 74,
   "metadata": {
    "scrolled": true
   },
   "outputs": [],
   "source": [
    "\n",
    "popFpde =np.genfromtxt(fname='pop F PDE w=0.1 hill')"
   ]
  },
  {
   "cell_type": "code",
   "execution_count": 355,
   "metadata": {},
   "outputs": [
    {
     "data": {
      "text/plain": [
       "<matplotlib.legend.Legend at 0x7f34fceefdd0>"
      ]
     },
     "execution_count": 355,
     "metadata": {},
     "output_type": "execute_result"
    },
    {
     "data": {
      "image/png": "[encoded data removed]",
      "text/plain": [
       "<Figure size 432x288 with 1 Axes>"
      ]
     },
     "metadata": {
      "needs_background": "light"
     },
     "output_type": "display_data"
    }
   ],
   "source": [
    "plt.plot(u_val, finalpopS, c='r',label='S eco' )\n",
    "plt.plot(u_val, finalpopF, c='b',label='F eco' )\n",
    "plt.plot(uval2, popSpde, 'r--', label='S PDE')\n",
    "plt.plot(uval2, popFpde, 'b--', label='F PDE')\n",
    "plt.xlabel('diffusion u')\n",
    "plt.ylabel('pop size')\n",
    "plt.legend()"
   ]
  },
  {
   "cell_type": "code",
   "execution_count": 14,
   "metadata": {},
   "outputs": [],
   "source": [
    "trait_mean = np.genfromtxt(fname='trait mean w=0.1 hill')\n",
    "trait_std = np.genfromtxt(fname='trait std w=0.1 hill')"
   ]
  },
  {
   "cell_type": "code",
   "execution_count": 10,
   "metadata": {
    "scrolled": true
   },
   "outputs": [],
   "source": [
    "coex=  np.genfromtxt(fname='w=0.2Ls hill.txt')\n",
    "popS2 = np.genfromtxt(fname='popS2 w=0.2Ls hill.txt')\n",
    "popS = np.genfromtxt(fname='popS w=0.2Ls hill.txt')\n",
    "popF2 = np.genfromtxt(fname='popF2 w=0.2Ls hill.txt')\n",
    "popF = np.genfromtxt(fname='popF w=0.2Ls hill.txt')"
   ]
  },
  {
   "cell_type": "code",
   "execution_count": 45,
   "metadata": {},
   "outputs": [],
   "source": [
    "np.savetxt('w='+ valw + 'Ls hill.txt', coex)\n",
    "np.savetxt('popS2 w='+ valw + 'Ls hill.txt', popS2)\n",
    "np.savetxt('popS w='+ valw + 'Ls hill.txt', popS)\n",
    "np.savetxt('popF2 w='+ valw + 'Ls hill.txt', popF2)\n",
    "np.savetxt('popF w='+ valw + 'Ls hill.txt', popF)"
   ]
  },
  {
   "cell_type": "code",
   "execution_count": 32,
   "metadata": {},
   "outputs": [],
   "source": [
    " "
   ]
  },
  {
   "cell_type": "code",
   "execution_count": 34,
   "metadata": {
    "scrolled": true
   },
   "outputs": [],
   "source": []
  },
  {
   "cell_type": "code",
   "execution_count": 35,
   "metadata": {},
   "outputs": [],
   "source": []
  },
  {
   "cell_type": "code",
   "execution_count": 36,
   "metadata": {},
   "outputs": [],
   "source": []
  },
  {
   "cell_type": "code",
   "execution_count": 37,
   "metadata": {},
   "outputs": [],
   "source": []
  }
 ],
 "metadata": {
  "kernelspec": {
   "display_name": "Python 3",
   "language": "python",
   "name": "python3"
  },
  "language_info": {
   "codemirror_mode": {
    "name": "ipython",
    "version": 3
   },
   "file_extension": ".py",
   "mimetype": "text/x-python",
   "name": "python",
   "nbconvert_exporter": "python",
   "pygments_lexer": "ipython3",
   "version": "3.7.6"
  }
 },
 "nbformat": 4,
 "nbformat_minor": 5
}
