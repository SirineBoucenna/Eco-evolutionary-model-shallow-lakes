{
 "cells": [
  {
   "cell_type": "code",
   "execution_count": 1,
   "metadata": {},
   "outputs": [],
   "source": [
    "from functools import partial\n",
    "import numpy as np\n",
    "import scipy\n",
    "from scipy.integrate import odeint\n",
    "import matplotlib.pyplot as plt\n",
    "from scipy.integrate import dblquad\n",
    "from scipy.integrate import quad\n",
    "from matplotlib import colors as c\n",
    "import matplotlib as mpl\n",
    "from sklearn.mixture import GaussianMixture\n",
    "import gudhi as gd"
   ]
  },
  {
   "cell_type": "code",
   "execution_count": 3,
   "metadata": {},
   "outputs": [],
   "source": [
    "#Parameters \n",
    "\n",
    "b = 10\n",
    "p = 0.5\n",
    "a0= 0.01\n",
    "W0 = 1\n",
    "q0 = 0.005\n",
    "zb = 10\n",
    "hs = 0.1\n",
    "hf = 0.2\n",
    "rs = r = 0.5\n",
    "rf = 0.5\n",
    "ls = 0.5\n",
    "lf = 0.2\n",
    "\n",
    "maxl = 0.05\n",
    "minl = 0.1\n",
    "pl =10\n",
    "zt = 2"
   ]
  },
  {
   "cell_type": "code",
   "execution_count": 4,
   "metadata": {},
   "outputs": [],
   "source": [
    "#Defining function \n",
    "\n",
    "def a(z,zm):\n",
    "    a = 2*a0 * np.exp(b*(z-zm))/(1+np.exp(b*(z-zm)) )\n",
    "    return(a)\n",
    "\n",
    "def q(z):\n",
    "    q = q0* np.exp(p*z)\n",
    "    return q\n",
    "\n",
    "def W(z):\n",
    "    W = W0*np.exp(w*z)- W0\n",
    "    return W\n",
    "\n",
    "def Ls(z) : \n",
    "    res = maxl -(maxl-minl)*zt**pl/(z**pl + zt**pl)\n",
    "    return res\n",
    "\n",
    "def Lf(z) : \n",
    "    res = minl -(minl-maxl)*zt**pl/(z**pl + zt**pl)\n",
    "    return res\n",
    "\n",
    "def nm(zm, z,zf, S,F,Sm, Nu0, u):\n",
    "    res = Nu(zm,Nu0, u)/(1 + q(z)*S + q(zm)*Sm + q(zf)*F)\n",
    "    return res\n",
    "\n",
    "def n(z,zf, zm, S,F,Sm, Nu0, u):\n",
    "    res = Nu(z, Nu0, u)/(1 + q(z)*S + q(zm)*Sm + q(zf)*F)\n",
    "    return res\n",
    "\n",
    "def nf(z,zf, zm, S,F,Sm,Nu0, u):\n",
    "    res = Nu2(zf, Nu0, u)/(1 + q(z)*S + q(zm)*Sm + q(zf)*F)\n",
    "    return res\n",
    "\n",
    "def Nu(z,Nu0, u):\n",
    "    nu = (Nu0 / (u* np.sqrt(2*np.pi))) * np.exp(-(zb-z)**2/(u**2))\n",
    "    return nu\n",
    "\n",
    "def f(pop,t,z,zf,zm,Nu0,u):\n",
    "    S = pop[0]\n",
    "    F = pop[1]\n",
    "    Sm = pop[2]\n",
    "    f0 =  r*S*n(z,zf,zm,S,F,Sm, Nu0, u)/(n(z,zf,zm,S,F,Sm, Nu0, u) +hs)* 1/(1+ a(z,z)*S+a(z,zm)*Sm+ a(z,zf)*F+W(z)) - Ls(z) *S\n",
    "    f1 =  r*F*nf(z,zf,zm,S,F,Sm, Nu0, u)/(nf(z,zf,zm,S,F,Sm, Nu0, u) + hf)* 1/(1+ a(zf,z)*S+a(0,0)*F+W(zf)) - Lf(zf)*F\n",
    "    f2= r*Sm*nm2(zm,z,zf,S,F,Sm, Nu0, u)/(nm(zm,z,zf,S,F,Sm, Nu0, u) +hs)* 1/(1+ a(zm,z)*S+a(zm,zm)*Sm+ a(zm,0)*F+W(zm)) - Ls(zm)*Sm\n",
    "    f = [f0, f1,f2]\n",
    "    return f"
   ]
  },
  {
   "cell_type": "code",
   "execution_count": 19,
   "metadata": {},
   "outputs": [],
   "source": [
    "T = 20000\n",
    "dt = 1\n",
    "\n",
    "N = int(T/dt)\n",
    "\n",
    "NX = 100\n",
    "\n",
    "u_val = np.linspace(0.5,10,100)\n",
    "\n",
    "sigma2 = 0.05\n",
    "\n",
    "epsilon = 0\n",
    "\n",
    "time = np.linspace(0, 50000, 100)\n",
    "\n",
    "def normale(x, sigma2) : \n",
    "    dens = 1/(np.sqrt(sigma2)*np.sqrt(2*np.pi)) *np.exp(-x**2/(2*sigma2))\n",
    "    return dens \n"
   ]
  },
  {
   "cell_type": "code",
   "execution_count": 8,
   "metadata": {},
   "outputs": [],
   "source": [
    "#Choice of parameters study\n",
    "Nu0 = 50\n",
    "z0 =8 #initial mean trait of S\n",
    "u= 7\n",
    "w=0.1\n",
    "z0f = 0  #initial mean trait of F\n",
    "zf = z0f\n",
    "zm=z0"
   ]
  },
  {
   "cell_type": "code",
   "execution_count": 48,
   "metadata": {},
   "outputs": [],
   "source": [
    "Z = np.linspace(0,zb,NX)\n",
    "S = np.zeros((N,NX))\n",
    "F = np.zeros((N,NX))\n",
    "I = normale(Z - z0, sigma2)\n",
    "If = normale(Z - z0f, 10e-4)\n",
    "F[0,:] = If + 0.01 \n",
    "S[0,:] = I + 0.01\n",
    "traj = odeint(partial(f2, z=z0,zf=z0f, zm=zm,Nu0 = Nu0, u =u), y0= [100, 100, 0], t=time)\n",
    "S0 = traj[-1,0] \n",
    "F0 = traj[-1,1] \n",
    "init = int(10*z0)\n",
    "initf = int(10*z0f)\n",
    "S[0,init] = 10*S0\n",
    "if F0 > 1 : \n",
    "    F[0,initf] = 10*F0"
   ]
  },
  {
   "cell_type": "code",
   "execution_count": null,
   "metadata": {},
   "outputs": [],
   "source": [
    "#Main function \n",
    "for n in range(N) :\n",
    "    for j in range(NX-1) : \n",
    "        z = Z[j+1]\n",
    "        G = ( r* (Nu2(z, Nu0,u)/(Nu2(z, Nu0, u) + hs*(1+ sum(q(Z)* S[n,:])*zb/NX + sum(q(Z)* F[n,:])*zb/NX))) *1/(1+ sum(a(z,Z)* S[n,:])*zb/NX+ sum(a(z,Z)* F[n,:])*zb/NX + W(z)) - Ls(z) - epsilon  )\n",
    "        A = G* S[n,j]\n",
    "        B = epsilon * sum(normale(z-Z, sigma2)*S[n,:])*zb/NX\n",
    "        S[n+1,j] = S[n,j] +dt*(A+B)\n",
    "        \n",
    "        zf = Z[j]\n",
    "        Gf = ( r* (Nu2(zf, Nu0,u)/(Nu2(zf, Nu0, u) + hf*(1+ sum(q(Z)* F[n,:])*zb/NX + sum(q(Z)* S[n,:])*zb/NX))) *1/(1+ sum(a(zf,Z)* F[n,:])*zb/NX + sum(a(zf,Z)* S[n,:])*zb/NX  + W(zf)) - Lf(zf) - epsilon  )\n",
    "        Af = Gf* F[n,j]\n",
    "        Bf = epsilon * sum(normale(zf-Z, sigma2)*F[n,:])*zb/NX\n",
    "        F[n+1,j] = F[n,j] +dt*(Af+Bf)\n",
    "    plotlabel = \"t = %1.2f\" %(n * dt)  \n",
    "    plt.figure(1)\n",
    "    plt.plot(Z,S[n,:], label=plotlabel,color = plt.get_cmap('copper')(float(n)/N))\n",
    "    plt.plot(Z,F[n,:], label=plotlabel,color = plt.get_cmap('copper')(float(n)/N))\n",
    "plt.title('Nu0 =100 u=5 b=1 w=0.5 sig=0.001 eps=l')"
   ]
  },
  {
   "cell_type": "code",
   "execution_count": 50,
   "metadata": {
    "scrolled": true
   },
   "outputs": [
    {
     "data": {
      "text/plain": [
       "<matplotlib.legend.Legend at 0x7f53d4c93a50>"
      ]
     },
     "execution_count": 50,
     "metadata": {},
     "output_type": "execute_result"
    },
    {
     "data": {
      "image/png": "[encoded data removed]",
      "text/plain": [
       "<Figure size 432x288 with 1 Axes>"
      ]
     },
     "metadata": {
      "needs_background": "light"
     },
     "output_type": "display_data"
    }
   ],
   "source": [
    "# Initial and final distributions of S and F\n",
    "plt.plot(Z, S[-1,:]/max(S[-1,:]), color ='red', label = 'pop final S')\n",
    "plt.xlabel('trait z')\n",
    "plt.plot(Z, S[0,:]/max(S[0,:]), 'r--', label = 'pop initial S')\n",
    "plt.plot(Z, F[-1,:]/max(F[-1,:]), color ='blue', label = 'pop final F')\n",
    "plt.xlabel('trait z')\n",
    "plt.plot(Z, F[0,:]/max(F[0,:]),  'b--', label = 'pop initial F')\n",
    "plt.ylabel('Pop densities')\n",
    "valb = str(b)\n",
    "valw = str(w)\n",
    "valu = str(u)\n",
    "titre = ('Density b=' + valb + ', w=' + valw + ', u=' + valu)\n",
    "plt.title(titre)\n",
    "plt.legend()\n",
    "plt.legend()"
   ]
  },
  {
   "cell_type": "code",
   "execution_count": null,
   "metadata": {},
   "outputs": [],
   "source": [
    "#Total populations size\n",
    "fig = plt.figure()\n",
    "ax = fig.add_subplot()\n",
    "ax.plot(range(N),(sum(np.transpose(S))*zb/NX), label= 'pop S', c='r')\n",
    "ax.plot(range(N), (sum(np.transpose(F))*zb/NX), label= 'pop F', c='blue')\n",
    "plt.xlabel('time')\n",
    "plt.ylabel('population size')\n",
    "plt.legend()\n"
   ]
  },
  {
   "cell_type": "code",
   "execution_count": 35,
   "metadata": {
    "scrolled": true
   },
   "outputs": [],
   "source": [
    "II = []\n",
    "for i in np.arange(len(S[18000,:])):\n",
    "    for k in np.arange(int(S[18000,i])):\n",
    "        II.append(Z[i])\n"
   ]
  },
  {
   "cell_type": "code",
   "execution_count": null,
   "metadata": {},
   "outputs": [],
   "source": [
    "# Evolution of mean traits of S and F\n",
    "plt.figure(1)\n",
    "plt.plot(range(N),sum(np.transpose(Z*S))/sum(np.transpose(S)), label= 'trait S', c='r')\n",
    "plt.plot(range(N),sum(np.transpose(Z*F))/sum(np.transpose(F)), label= 'trait F', c='b')\n",
    "plt.legend()\n",
    "plt.xlabel('time')\n",
    "plt.ylabel('trait moyen')"
   ]
  },
  {
   "cell_type": "code",
   "execution_count": 50,
   "metadata": {},
   "outputs": [],
   "source": [
    "# Evolution of median traits of S and F\n",
    "medianS = np.zeros(N)\n",
    "medianF = np.zeros(N)\n",
    "\n",
    "for j in range(N) : \n",
    "    II = []\n",
    "    II2 = []\n",
    "    for i in np.arange(len(S[j,:])):\n",
    "        for k in np.arange(int(S[j,i])):\n",
    "            II.append(Z[i])\n",
    "        for l in np.arange(int(F[j,i])):\n",
    "            II2.append(Z[i])\n",
    "    medianS[j] = np.median(II)\n",
    "    medianF[j] = np.median(II2)\n",
    "    \n",
    "plt.plot(range(N), medianS)\n",
    "plt.plot(range(N), medianF)"
   ]
  },
  {
   "cell_type": "code",
   "execution_count": 12,
   "metadata": {},
   "outputs": [],
   "source": [
    "#Emergence of phenotypes through time\n",
    "TRAITS = np.zeros((NX,N))\n",
    "TRAITF = np.zeros((NX,N))\n",
    "\n",
    "for j in range(N) : \n",
    "    for i in range(30) : \n",
    "        TRAITS[5*i+1:5*i+5,j] = sum(S[j,5*i+1:5*i+5])/10.\n",
    "        TRAITF[5*i+1:5*i+5,j] = sum(F[j,5*i:5*i+5])/10.\n",
    "        \n",
    "palette = copy(plt.get_cmap('Spectral'))\n",
    "palette.set_under('white',1.0)\n",
    "\n",
    "levels = np.arange(0, max(map(max, TRAITS)), 10)\n",
    "levels[0] = 1\n",
    "\n",
    "levelsF = np.arange(0, max(map(max, TRAITF)), 10)\n",
    "levelsF[0] = 0.01\n",
    "\n",
    "#S\n",
    "norm = colors.BoundaryNorm(levels, ncolors=palette.N)\n",
    "fig = plt.figure()\n",
    "ax = fig.add_subplot()\n",
    "ax.imshow(TRAITS, cmap=palette,norm=norm,extent =[ 0,N,10,0],aspect='auto')\n",
    "ax.autoscale(False)\n",
    "plt.xlabel('time')\n",
    "plt.ylabel('trait zs')\n",
    "plt.title('Presence of traits through time')\n",
    "plt.colorbar()\n",
    "\n",
    "#F\n",
    "normF = colors.BoundaryNorm(levelsF, ncolors=palette.N)\n",
    "fig = plt.figure()\n",
    "ax = fig.add_subplot(1,1,1)\n",
    "im = ax.imshow(TRAITF, cmap=palette,norm=normF,extent =[ 0,N,10,0],aspect='auto')\n",
    "plt.autoscale(False)\n",
    "plt.xlabel('time')\n",
    "plt.ylabel('trait zf')\n",
    "plt.title('Presence of traits through time')\n",
    "plt.colorbar(im)"
   ]
  }
 ],
 "metadata": {
  "kernelspec": {
   "display_name": "Python 3",
   "language": "python",
   "name": "python3"
  },
  "language_info": {
   "codemirror_mode": {
    "name": "ipython",
    "version": 3
   },
   "file_extension": ".py",
   "mimetype": "text/x-python",
   "name": "python",
   "nbconvert_exporter": "python",
   "pygments_lexer": "ipython3",
   "version": "3.7.6"
  }
 },
 "nbformat": 4,
 "nbformat_minor": 4
}
