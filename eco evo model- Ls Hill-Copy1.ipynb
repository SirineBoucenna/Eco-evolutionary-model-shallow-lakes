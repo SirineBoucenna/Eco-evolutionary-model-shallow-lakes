{
 "cells": [
  {
   "cell_type": "code",
   "execution_count": 1,
   "metadata": {},
   "outputs": [],
   "source": [
    "from functools import partial\n",
    "import numpy as np\n",
    "import scipy\n",
    "from scipy.integrate import odeint\n",
    "import matplotlib as mpl\n",
    "import matplotlib.pyplot as plt\n",
    "import pandas as pd\n",
    "from matplotlib import colors as c\n",
    "import sympy as sp\n",
    "import scipy.optimize as op\n",
    "from matplotlib import image"
   ]
  },
  {
   "cell_type": "code",
   "execution_count": 2,
   "metadata": {},
   "outputs": [],
   "source": [
    "#Parameters \n",
    "b = 10\n",
    "p = 0.5\n",
    "a0= 0.01\n",
    "W0 = 1\n",
    "q0 = 0.005\n",
    "zb = 10\n",
    "hs = 0.1\n",
    "hf = 0.2\n",
    "rs = r = 0.5\n",
    "rf = 0.5\n",
    "ls = 0.5\n",
    "lf = 0.2"
   ]
  },
  {
   "cell_type": "code",
   "execution_count": 3,
   "metadata": {},
   "outputs": [],
   "source": [
    "maxl = 0.05\n",
    "minl = 0.1\n",
    "pl =10\n",
    "zt = 2"
   ]
  },
  {
   "cell_type": "code",
   "execution_count": 4,
   "metadata": {},
   "outputs": [],
   "source": [
    "z = zb\n",
    "\n",
    "#Defining function:\n",
    "def a(z,zm):\n",
    "    a = 2*a0 * np.exp(b*(z-zm))/(1+np.exp(b*(z-zm)) )\n",
    "    return(a)\n",
    "\n",
    "def Nu(z):\n",
    "    Nu = (Nu0 / (u* np.sqrt(2*np.pi))) * np.exp(-(zb-z)**2/(u**2))\n",
    "    return Nu\n",
    "\n",
    "def n(z, zm, S,F,Sm):\n",
    "    res = Nu(z)/(1 + q(z)*S + q(zm)*Sm + q(0)*F)\n",
    "    return res\n",
    "\n",
    "def nf(z, zm, S,F,Sm):\n",
    "    res = Nu(0)/(1 + q(z)*S + q(zm)*Sm + q(0)*F)\n",
    "    return res\n",
    "\n",
    "def nm(zm, z, S,F,Sm):\n",
    "    res = Nu(zm)/(1 + q(z)*S + q(zm)*Sm + q(0)*F)\n",
    "    return res\n",
    "\n",
    "def q(z):\n",
    "    q = q0* np.exp(p*z)\n",
    "    return q\n",
    "\n",
    "def W(z):\n",
    "    W = W0*np.exp(w*z)- W0\n",
    "    return W\n",
    "\n",
    "def f(pop,t,z,zm):\n",
    "    S = pop[0]\n",
    "    F = pop[1]\n",
    "    Sm = pop[2]\n",
    "    f0 =  rs*S*n(z,zm,S,F,Sm)/(n(z,zm,S,F,Sm) +hs)* 1/(1+ a(z,z)*S+a(z,zm)*Sm+ a(z,0)*F+W(z)) -  Ls(z) *S\n",
    "    f1 =  rf*F*nf(z,zm,S,F,Sm)/(nf(z,zm,S,F,Sm) + hf)* 1/(1+ a(0,0)*F+W(0)) - Lf(0) *F\n",
    "    f2= rs*Sm*nm(zm,z,S,F,Sm)/(nm(zm,z,S,F,Sm) +hs)* 1/(1+ a(zm,z)*S+a(zm,zm)*Sm+ a(zm,0)*F+W(zm)) - Ls(zm) *Sm\n",
    "    f = [f0, f1,f2]\n",
    "    return f\n"
   ]
  },
  {
   "cell_type": "code",
   "execution_count": 5,
   "metadata": {},
   "outputs": [],
   "source": [
    "time = np.linspace(0, 8000, 100)"
   ]
  },
  {
   "cell_type": "code",
   "execution_count": 6,
   "metadata": {},
   "outputs": [],
   "source": [
    "def nm2(zm, z, S,F,Sm, Nu0, u):\n",
    "    res = Nu2(zm,Nu0, u)/(1 + q(z)*S + q(zm)*Sm + q(0)*F)\n",
    "    return res\n",
    "\n",
    "def n2(z, zm, S,F,Sm, Nu0, u):\n",
    "    res = Nu2(z, Nu0, u)/(1 + q(z)*S + q(zm)*Sm + q(0)*F)\n",
    "    return res\n",
    "\n",
    "def nf2(z, zm, S,F,Sm,Nu0, u):\n",
    "    res = Nu2(0, Nu0, u)/(1 + q(z)*S + q(zm)*Sm + q(0)*F)\n",
    "    return res\n",
    "\n",
    "def Nu2(z,Nu0, u):\n",
    "    nu = (Nu0 / (u* np.sqrt(2*np.pi))) * np.exp(-(zb-z)**2/(u**2))\n",
    "    return nu\n",
    "\n",
    "def f2(pop,t,z,zm,Nu0,u):\n",
    "    S = pop[0]\n",
    "    F = pop[1]\n",
    "    Sm = pop[2]\n",
    "    f0 =  r*S*n2(z,zm,S,F,Sm, Nu0, u)/(n2(z,zm,S,F,Sm, Nu0, u) +hs)* 1/(1+ a(z,z)*S+a(z,zm)*Sm+ a(z,0)*F+W(z)) - Ls(z) *S\n",
    "    f1 =  r*F*nf2(z,zm,S,F,Sm, Nu0, u)/(nf2(z,zm,S,F,Sm, Nu0, u) + hf)* 1/(1+  a(0,0)*F+W(0)) - Lf(0)*F\n",
    "    f2= r*Sm*nm2(zm,z,S,F,Sm, Nu0, u)/(nm2(zm,z,S,F,Sm, Nu0, u) +hs)* 1/(1+ a(zm,z)*S+a(zm,zm)*Sm+ a(zm,0)*F+W(zm)) - Ls(zm)*Sm\n",
    "    f = [f0, f1,f2]\n",
    "    return f\n",
    "\n",
    "def Feq(Nu0, u):\n",
    "    NU = Nu2(0,Nu0, u)\n",
    "    A =lf*q0*hf*a0/NU\n",
    "    B = lf*(a0 + hf*a0/NU+ hf*q0/NU)\n",
    "    C = lf+ l*hf/NU - r\n",
    "\n",
    "    Fe = (-B + np.sqrt(B**2 - 4*A*C))/(2*A)\n",
    "    return Fe\n"
   ]
  },
  {
   "cell_type": "code",
   "execution_count": 7,
   "metadata": {},
   "outputs": [],
   "source": [
    "def ns(z, S,F, Nu0, u):\n",
    "    res = Nu2(z, Nu0, u)/(1 + q(z)*S + q(0)*F)\n",
    "    return res\n",
    "\n",
    "def nf1(z, S,F,Nu0, u):\n",
    "    res = Nu2(0, Nu0, u)/(1 + q(z)*S + q(0)*F)\n",
    "    return res\n",
    "\n",
    "def Nu2(z,Nu0, u):\n",
    "    nu = (Nu0 / (u* np.sqrt(2*np.pi))) * np.exp(-(zb-z)**2/(u**2))\n",
    "    return nu\n",
    "\n",
    "def F2(POP,z, Nu0, u):\n",
    "    S = POP[0]\n",
    "    F = POP[1]\n",
    "    f0 =  rs*S*ns(z,S,F, Nu0, u)/(ns(z, S,F,Nu0, u) +hs)* 1/(1+ a(z,z)*S+ a(z,0)*F+W(z)) - Ls(z) *S\n",
    "    f1 =  rf*F*nf1(z,S,F, Nu0, u)/(nf1(z,S,F, Nu0, u) + hf)* 1/(1+  a(0,0)*F+W(0)) - Lf(0) *F\n",
    "    f = [f0, f1]\n",
    "    return f\n",
    "\n",
    "def jacF2(z, S,F, Nu0, u):\n",
    "    a1 = -rs*Nu(z)*S*( ( hs*q(z)*( 1 + a0*S +a(z,0)*F +W(z)) + a0*(Nu(z)+ hs*(1+ q(0)*F +q(z) *S))) / ((Nu(z)+hs *(1+ q(0)*F +q(z) *S))*(1 + a0*S +a(z,0)*F +W(z)))**2  ) + r*ns(z,S,F, Nu0, u)/(ns(z, S,F,Nu0, u) +hs)* 1/(1+ a(z,z)*S+ a(z,0)*F+W(z)) - Ls(z)\n",
    "    b1 = -rs*Nu(z)*S*( ( hs*q(0)*( 1 + a0*S +a(z,0)*F +W(z)) + a(z,0)*(Nu(z)+ hs*(1+ q(0)*F +q(z) *S))) / ((Nu(z)+hs *(1+ q(0)*F +q(z) *S))*(1 + a0*S +a(z,0)*F +W(z)))**2  )\n",
    "    d1 = -rf*Nu(0)*F*( ( hf*q(0)*( 1 + a0*F ) + a0*(Nu(0)+ hf*(1+ q(0)*F +q(z) *S))) / ((Nu(0)+hf *(1+ q(0)*F +q(z) *S))*(1 + a0*F +W(0)))**2  ) + r*nf1(z,S,F, Nu0, u)/(nf1(z,S,F, Nu0, u) + hf)* 1/(1+  a(0,0)*F+W(0)) - Lf(0)\n",
    "    c1 = -rf*Nu(0)*F*( ( hf*q(z)*( 1 + a0*F ) ) / ((Nu(0)+hf *(1+ q(0)*F +q(z) *S))*(1 + a0*F +W(0)))**2  )\n",
    "    \n",
    "    jac = np.array([[a1,b1], [c1,d1]])\n",
    "     \n",
    "    return jac \n",
    "\n",
    "\n",
    "def Ls(z) : \n",
    "    res = maxl -(maxl-minl)*zt**pl/(z**pl + zt**pl)\n",
    "    return res\n",
    "\n",
    "def Lf(z) : \n",
    "    res = minl -(minl-maxl)*zt**pl/(z**pl + zt**pl)\n",
    "    return res"
   ]
  },
  {
   "cell_type": "code",
   "execution_count": 14,
   "metadata": {},
   "outputs": [],
   "source": [
    "Nu_val = np.linspace(0.5,100,100)\n",
    "u_val = np.linspace(0.1,10,300)\n",
    "zm_val = np.linspace(0,zb,300)\n",
    "X, Y = np.meshgrid(Nu_val, u_val)"
   ]
  },
  {
   "cell_type": "code",
   "execution_count": 8,
   "metadata": {},
   "outputs": [
    {
     "data": {
      "text/plain": [
       "<matplotlib.legend.Legend at 0x7f8cbf82c850>"
      ]
     },
     "execution_count": 8,
     "metadata": {},
     "output_type": "execute_result"
    },
    {
     "data": {
      "image/png": "[encoded data removed]",
      "text/plain": [
       "<Figure size 432x288 with 1 Axes>"
      ]
     },
     "metadata": {
      "needs_background": "light"
     },
     "output_type": "display_data"
    }
   ],
   "source": [
    "plt.plot(zm_val, Ls(zm_val), label='Ls')\n",
    "plt.grid()\n",
    "plt.xlabel('z')\n",
    "plt.legend()"
   ]
  },
  {
   "cell_type": "code",
   "execution_count": 9,
   "metadata": {},
   "outputs": [
    {
     "name": "stderr",
     "output_type": "stream",
     "text": [
      "/home/vasilis.dakos/anaconda3/lib/python3.7/site-packages/ipykernel_launcher.py:33: RuntimeWarning: overflow encountered in square\n",
      "/home/vasilis.dakos/anaconda3/lib/python3.7/site-packages/ipykernel_launcher.py:33: RuntimeWarning: overflow encountered in multiply\n",
      "/home/vasilis.dakos/anaconda3/lib/python3.7/site-packages/ipykernel_launcher.py:33: RuntimeWarning: invalid value encountered in subtract\n"
     ]
    },
    {
     "data": {
      "image/png": "[encoded data removed]",
      "text/plain": [
       "<Figure size 432x288 with 2 Axes>"
      ]
     },
     "metadata": {
      "needs_background": "light"
     },
     "output_type": "display_data"
    }
   ],
   "source": [
    "Z = Feq(X, Y)\n",
    "\n",
    "plt.pcolor(X, Y, Z, cmap='tab20')\n",
    "plt.xlabel('Nu0')\n",
    "plt.ylabel('u')\n",
    "plt.colorbar()\n",
    "plt.show()"
   ]
  },
  {
   "cell_type": "code",
   "execution_count": 439,
   "metadata": {},
   "outputs": [],
   "source": [
    "z=2\n",
    "traj = odeint(partial(f2, z=z, zm=zm,Nu0 = Nu0, u =u), y0= [100, 100, 0], t=time)"
   ]
  },
  {
   "cell_type": "code",
   "execution_count": 28,
   "metadata": {},
   "outputs": [],
   "source": [
    "Nu0=10\n",
    "b = 10\n",
    "w=0.3\n",
    "zm=5"
   ]
  },
  {
   "cell_type": "code",
   "execution_count": 29,
   "metadata": {},
   "outputs": [],
   "source": [
    "popF = np.eye(300) \n",
    "popS = np.eye(300) \n",
    "\n",
    "for i in range(300):\n",
    "    u = u_val[i]\n",
    "    F= S = 100\n",
    "    for j in range(300): \n",
    "        z= zm_val[j]\n",
    "        traj = odeint(partial(f2, z=z, zm=zm,Nu0 = Nu0, u =u), y0= [S+0.1, F+0.1, 0], t=time)\n",
    "        S =  traj[-1,0] \n",
    "        F = traj[-1,1]\n",
    "        popS[j,i] = S\n",
    "        popF[j,i] = F"
   ]
  },
  {
   "cell_type": "code",
   "execution_count": 30,
   "metadata": {
    "scrolled": true
   },
   "outputs": [],
   "source": [
    "popF2 = np.eye(300) \n",
    "popS2 = np.eye(300) \n",
    "\n",
    "for i in range(300):\n",
    "    u = u_val[i]\n",
    "    F= S = 100\n",
    "    for j in range(300): \n",
    "        z = zm_val[299-j]  \n",
    "        traj = odeint(partial(f2, z=z, zm=zm,Nu0 = Nu0, u =u), y0= [S+0.1, F+0.1, 0], t=time)\n",
    "        S =  traj[-1,0]\n",
    "        F = traj[-1,1]\n",
    "        popS2[299-j,i] = S\n",
    "        popF2[299-j,i] = F"
   ]
  },
  {
   "cell_type": "code",
   "execution_count": 31,
   "metadata": {},
   "outputs": [],
   "source": [
    "coex = np.eye(300)\n",
    "for i in range(300):\n",
    "    for j in range(300): \n",
    "            if popF[i,j] > 1:\n",
    "                if popS[i,j] > 1:\n",
    "                    coex[i,j] =4 \n",
    "                else:\n",
    "                    coex[i,j] = 1\n",
    "            else:\n",
    "                if popS[i,j] > 1:\n",
    "                    coex[i,j] = 2\n",
    "                else:\n",
    "                    coex[i,j] = 0"
   ]
  },
  {
   "cell_type": "code",
   "execution_count": 32,
   "metadata": {},
   "outputs": [],
   "source": [
    "for i in range(300):\n",
    "    for j in range(300): \n",
    "            if (popF[i,j] > 1 and popS[i,j] < 1 and popS2[i,j] > 1 and popF2[i,j] > 1) or (popF2[i,j] > 1 and popS2[i,j] < 1 and popS[i,j] > 1 and popF[i,j] > 1) : \n",
    "                coex[i,j] = 5\n",
    "            elif (popF[i,j] > 1 and popS[i,j] < 1 and popS2[i,j] > 1 and popF2[i,j] < 1) or  (popF2[i,j] > 1 and popS2[i,j] < 1 and popS[i,j] > 1 and popF[i,j] < 1) : \n",
    "                coex[i,j] = 3"
   ]
  },
  {
   "cell_type": "code",
   "execution_count": 62,
   "metadata": {},
   "outputs": [],
   "source": [
    "uval2 = np.linspace(0.1,10,20)"
   ]
  },
  {
   "cell_type": "code",
   "execution_count": 33,
   "metadata": {
    "scrolled": false
   },
   "outputs": [
    {
     "data": {
      "image/png": "[encoded data removed]",
      "text/plain": [
       "<Figure size 576x360 with 1 Axes>"
      ]
     },
     "metadata": {
      "needs_background": "light"
     },
     "output_type": "display_data"
    }
   ],
   "source": [
    "# get the colors of the values, according to the \n",
    "# colormap used by imshow\n",
    "import matplotlib.patches as mpatches\n",
    "# colormap used by imshow\n",
    "plt.figure(figsize=(8,5))\n",
    "im = plt.imshow(coex,cmap='tab20',extent =[0, 10, 10,0],aspect='auto')\n",
    "values = np.unique(coex.ravel())\n",
    "colors = [ im.cmap(im.norm(value)) for value in values]\n",
    "labels = ['I:Unfeasible', 'II:Only floating plants (F)', 'III:Only submerged macrophytes (S)','IV:Bistability Only S/Only F', 'V:Coexistence', 'VI:Bistability coexistence/Only F']\n",
    "# create a patch (proxy artist) for every color \n",
    "patches = [ mpatches.Patch(color=colors[i], label=labels[i]) for i in range(len(values))]\n",
    "# put those patched as legend-handles into the legend\n",
    "first_legend= plt.legend(handles=patches, bbox_to_anchor=(1.05, 1), loc=2, borderaxespad=0. )\n",
    "\n",
    "\n",
    "\n",
    "plt.xlabel('nutrients diffusion (u)')\n",
    "plt.yticks([0,2,4,6,8,10], ['surface of the lake 0',2,4,6,8,'bottom of the lake 10'], color='black')\n",
    "plt.ylabel('Submerged plants depth trait (z)')\n",
    "\n",
    "plt.show()"
   ]
  },
  {
   "cell_type": "code",
   "execution_count": 34,
   "metadata": {},
   "outputs": [
    {
     "data": {
      "text/plain": [
       "0.3"
      ]
     },
     "execution_count": 34,
     "metadata": {},
     "output_type": "execute_result"
    }
   ],
   "source": [
    "w"
   ]
  },
  {
   "cell_type": "code",
   "execution_count": null,
   "metadata": {},
   "outputs": [],
   "source": [
    "plt.gca().add_artist(first_legend)\n",
    "a1,=plt.plot(u_blanc[:79], sing_blanc[:79], c='brown', linewidth = 3, label='CSS')\n",
    "a2,=plt.plot(u_red, sing_red, c='orange', linewidth = 3, label='BP')\n",
    "a3,= plt.plot(u_black, sing_black, c='black',  linewidth = 3, label='Repellor')\n",
    "second_legend =plt.legend(handles=[a1, a2, a3], bbox_to_anchor=(0.74, 1), loc=2, borderaxespad=14. )\n",
    "plt.plot(u_blanc[145:], sing_blanc[145:], c='brown',  linewidth = 3)\n",
    "\n",
    "\n",
    "plt.gca().add_artist(second_legend)\n",
    "line2, = plt.plot(np.linspace(0.1,10,100), trait_mean, c='r', linewidth=2, label= 'mean trait')\n",
    "p1 = plt.fill_between(np.linspace(0.1,10,1000)[np.where(trait_min > 0)], trait_max[np.where(trait_min > 0)],\n",
    "       trait_min[np.where(trait_min > 0)], edgecolor='r',label= 'range of traits', facecolor = 'none',hatch=\"++\", alpha=0.25)\n",
    "\n",
    "plt.legend(handles=[line2, p1],bbox_to_anchor=(0.83, 1), loc=2, borderaxespad=10. )\n"
   ]
  },
  {
   "cell_type": "code",
   "execution_count": 38,
   "metadata": {},
   "outputs": [],
   "source": [
    "u_blanc = u_val[np.where(stra == 4)]\n",
    "sing_blanc = singP[np.where(stra == 4)]\n",
    "\n",
    "u_red = u_val[np.where(stra== 3)]\n",
    "sing_red = singP[np.where(stra == 3)]\n",
    "\n",
    "u_black = u_val[np.where(stra2 == 0)]\n",
    "sing_black = singP2[np.where(stra2 == 0)]"
   ]
  },
  {
   "cell_type": "code",
   "execution_count": 21,
   "metadata": {},
   "outputs": [],
   "source": [
    "coex[:,752:][np.where(coex[:,753:] ==2)] = 3"
   ]
  },
  {
   "cell_type": "code",
   "execution_count": 45,
   "metadata": {},
   "outputs": [],
   "source": [
    "trait_min= np.genfromtxt(fname='trait min w=0.1 hill')\n",
    "trait_max= np.genfromtxt(fname='trait max w=0.1 hill')\n",
    "trait_mean = np.genfromtxt(fname='trait mean w=0.1 hill')"
   ]
  },
  {
   "cell_type": "code",
   "execution_count": 46,
   "metadata": {},
   "outputs": [],
   "source": [
    "trait_min[:30] = trait_max[:30] = np.repeat(trait_mean[:3],10)"
   ]
  },
  {
   "cell_type": "code",
   "execution_count": 23,
   "metadata": {},
   "outputs": [],
   "source": [
    "trait_mincoevo= np.genfromtxt(fname='trait min coevo w=0.1 hill')\n",
    "trait_maxcoevo= np.genfromtxt(fname='trait max coevo w=0.1 hill')\n",
    "trait_meancoevo = np.genfromtxt(fname='trait mean coevo w=0.1 hill')"
   ]
  },
  {
   "cell_type": "code",
   "execution_count": 45,
   "metadata": {
    "scrolled": true
   },
   "outputs": [
    {
     "ename": "NameError",
     "evalue": "name 'uval2' is not defined",
     "output_type": "error",
     "traceback": [
      "\u001b[0;31m---------------------------------------------------------------------------\u001b[0m",
      "\u001b[0;31mNameError\u001b[0m                                 Traceback (most recent call last)",
      "\u001b[0;32m<ipython-input-45-26bbe141ba84>\u001b[0m in \u001b[0;36m<module>\u001b[0;34m\u001b[0m\n\u001b[1;32m      5\u001b[0m \u001b[0;34m\u001b[0m\u001b[0m\n\u001b[1;32m      6\u001b[0m \u001b[0mfig2\u001b[0m\u001b[0;34m,\u001b[0m \u001b[0max2\u001b[0m \u001b[0;34m=\u001b[0m \u001b[0mplt\u001b[0m\u001b[0;34m.\u001b[0m\u001b[0msubplots\u001b[0m\u001b[0;34m(\u001b[0m\u001b[0;36m1\u001b[0m\u001b[0;34m,\u001b[0m\u001b[0;36m1\u001b[0m\u001b[0;34m)\u001b[0m\u001b[0;34m\u001b[0m\u001b[0;34m\u001b[0m\u001b[0m\n\u001b[0;32m----> 7\u001b[0;31m \u001b[0max2\u001b[0m\u001b[0;34m.\u001b[0m\u001b[0mplot\u001b[0m\u001b[0;34m(\u001b[0m\u001b[0muval2\u001b[0m\u001b[0;34m,\u001b[0m \u001b[0mmeancoevo\u001b[0m\u001b[0;34m,\u001b[0m \u001b[0mc\u001b[0m\u001b[0;34m=\u001b[0m\u001b[0;34m'g'\u001b[0m\u001b[0;34m)\u001b[0m\u001b[0;34m\u001b[0m\u001b[0;34m\u001b[0m\u001b[0m\n\u001b[0m\u001b[1;32m      8\u001b[0m \u001b[0max2\u001b[0m\u001b[0;34m.\u001b[0m\u001b[0mfill_between\u001b[0m\u001b[0;34m(\u001b[0m\u001b[0muval2\u001b[0m\u001b[0;34m,\u001b[0m \u001b[0mmaxcoevo\u001b[0m\u001b[0;34m,\u001b[0m\u001b[0mmincoevo\u001b[0m\u001b[0;34m,\u001b[0m \u001b[0mcolor\u001b[0m\u001b[0;34m=\u001b[0m\u001b[0;34m'palegoldenrod'\u001b[0m\u001b[0;34m)\u001b[0m\u001b[0;34m\u001b[0m\u001b[0;34m\u001b[0m\u001b[0m\n\u001b[1;32m      9\u001b[0m \u001b[0max2\u001b[0m\u001b[0;34m.\u001b[0m\u001b[0minvert_yaxis\u001b[0m\u001b[0;34m(\u001b[0m\u001b[0;34m)\u001b[0m\u001b[0;34m\u001b[0m\u001b[0;34m\u001b[0m\u001b[0m\n",
      "\u001b[0;31mNameError\u001b[0m: name 'uval2' is not defined"
     ]
    },
    {
     "data": {
      "image/png": "[encoded data removed]",
      "text/plain": [
       "<Figure size 432x288 with 1 Axes>"
      ]
     },
     "metadata": {
      "needs_background": "light"
     },
     "output_type": "display_data"
    },
    {
     "data": {
      "image/png": "[encoded data removed]",
      "text/plain": [
       "<Figure size 432x288 with 1 Axes>"
      ]
     },
     "metadata": {
      "needs_background": "light"
     },
     "output_type": "display_data"
    }
   ],
   "source": [
    "fig1, ax = plt.subplots(1,1)\n",
    "ax.plot(np.linspace(0.1,10,100), trait_mean, c='orange')\n",
    "ax.fill_between(np.linspace(0.1,10,1000)[np.where(trait_min > 0)], trait_max[np.where(trait_min > 0)], trait_min[np.where(trait_min > 0)],hatch='X')\n",
    "ax.invert_yaxis()\n",
    "\n",
    "fig2, ax2 = plt.subplots(1,1)\n",
    "ax2.plot(uval2, meancoevo, c='g')\n",
    "ax2.fill_between(uval2, maxcoevo,mincoevo, color='palegoldenrod')\n",
    "ax2.invert_yaxis()"
   ]
  },
  {
   "cell_type": "code",
   "execution_count": 18,
   "metadata": {},
   "outputs": [],
   "source": [
    "maxcoevo = np.append(trait_maxcoevo[np.where(trait_mincoevo > 0)],6.36)"
   ]
  },
  {
   "cell_type": "code",
   "execution_count": 19,
   "metadata": {},
   "outputs": [],
   "source": [
    "uval2 = np.append(uval2 , 7.5)"
   ]
  },
  {
   "cell_type": "code",
   "execution_count": 20,
   "metadata": {},
   "outputs": [],
   "source": [
    "meancoevo = np.append(meancoevo,3.2)\n",
    "mincoevo = np.append(mincoevo,2.4)\n",
    "maxcoevo = np.append(maxcoevo,6)"
   ]
  },
  {
   "cell_type": "code",
   "execution_count": 123,
   "metadata": {},
   "outputs": [
    {
     "data": {
      "text/plain": [
       "Text(0, 0.5, 'S pop size')"
      ]
     },
     "execution_count": 123,
     "metadata": {},
     "output_type": "execute_result"
    },
    {
     "data": {
      "image/png": "[encoded data removed]",
      "text/plain": [
       "<Figure size 432x288 with 1 Axes>"
      ]
     },
     "metadata": {
      "needs_background": "light"
     },
     "output_type": "display_data"
    }
   ],
   "source": [
    "i = 800\n",
    "plt.plot(zm_val, popS[:,i], 'r')\n",
    "plt.plot(zm_val, popS2[:,i],'r')\n",
    "\n",
    "plt.plot(zm_val, popF[:,i], 'b')\n",
    "plt.plot(zm_val, popF2[:,i],'b')\n",
    "\n",
    "\n",
    "plt.xlabel('trait z')\n",
    "plt.ylabel('S pop size')"
   ]
  },
  {
   "cell_type": "code",
   "execution_count": null,
   "metadata": {},
   "outputs": [],
   "source": [
    "np.savetxt('colors.txt',colors)"
   ]
  },
  {
   "cell_type": "code",
   "execution_count": 353,
   "metadata": {},
   "outputs": [],
   "source": [
    "finalpopS = np.zeros(100)\n",
    "finalpopF = np.zeros(100)\n",
    "for i in range(100) : \n",
    "    z = singP[i] \n",
    "    k = int(z*10)\n",
    "    finalpopS[i] = popS[k,i]\n",
    "    finalpopF[i] = popF[k,i]"
   ]
  },
  {
   "cell_type": "code",
   "execution_count": 74,
   "metadata": {
    "scrolled": true
   },
   "outputs": [],
   "source": [
    "\n",
    "popFpde =np.genfromtxt(fname='pop F PDE w=0.1 hill')"
   ]
  },
  {
   "cell_type": "code",
   "execution_count": 355,
   "metadata": {},
   "outputs": [
    {
     "data": {
      "text/plain": [
       "<matplotlib.legend.Legend at 0x7f34fceefdd0>"
      ]
     },
     "execution_count": 355,
     "metadata": {},
     "output_type": "execute_result"
    },
    {
     "data": {
      "image/png": "[encoded data removed]",
      "text/plain": [
       "<Figure size 432x288 with 1 Axes>"
      ]
     },
     "metadata": {
      "needs_background": "light"
     },
     "output_type": "display_data"
    }
   ],
   "source": [
    "plt.plot(u_val, finalpopS, c='r',label='S eco' )\n",
    "plt.plot(u_val, finalpopF, c='b',label='F eco' )\n",
    "plt.plot(uval2, popSpde, 'r--', label='S PDE')\n",
    "plt.plot(uval2, popFpde, 'b--', label='F PDE')\n",
    "plt.xlabel('diffusion u')\n",
    "plt.ylabel('pop size')\n",
    "plt.legend()"
   ]
  },
  {
   "cell_type": "code",
   "execution_count": 14,
   "metadata": {},
   "outputs": [],
   "source": [
    "trait_mean = np.genfromtxt(fname='trait mean w=0.1 hill')\n",
    "trait_std = np.genfromtxt(fname='trait std w=0.1 hill')"
   ]
  },
  {
   "cell_type": "code",
   "execution_count": 10,
   "metadata": {
    "scrolled": true
   },
   "outputs": [],
   "source": [
    "coex=  np.genfromtxt(fname='w=0.2Ls hill.txt')\n",
    "popS2 = np.genfromtxt(fname='popS2 w=0.2Ls hill.txt')\n",
    "popS = np.genfromtxt(fname='popS w=0.2Ls hill.txt')\n",
    "popF2 = np.genfromtxt(fname='popF2 w=0.2Ls hill.txt')\n",
    "popF = np.genfromtxt(fname='popF w=0.2Ls hill.txt')"
   ]
  },
  {
   "cell_type": "code",
   "execution_count": 45,
   "metadata": {},
   "outputs": [],
   "source": [
    "np.savetxt('w='+ valw + 'Ls hill.txt', coex)\n",
    "np.savetxt('popS2 w='+ valw + 'Ls hill.txt', popS2)\n",
    "np.savetxt('popS w='+ valw + 'Ls hill.txt', popS)\n",
    "np.savetxt('popF2 w='+ valw + 'Ls hill.txt', popF2)\n",
    "np.savetxt('popF w='+ valw + 'Ls hill.txt', popF)"
   ]
  },
  {
   "cell_type": "code",
   "execution_count": 53,
   "metadata": {},
   "outputs": [
    {
     "data": {
      "text/plain": [
       "<matplotlib.legend.Legend at 0x7f9b3affbd10>"
      ]
     },
     "execution_count": 53,
     "metadata": {},
     "output_type": "execute_result"
    },
    {
     "data": {
      "image/png": "[encoded data removed]",
      "text/plain": [
       "<Figure size 432x288 with 1 Axes>"
      ]
     },
     "metadata": {
      "needs_background": "light"
     },
     "output_type": "display_data"
    }
   ],
   "source": [
    "plt.plot(zm_val, popS2[:,79], label='pop S', c='r')\n",
    "plt.plot(zm_val, popF2[:,79], label='pop F', c='b')\n",
    "plt.xlabel('trait z')\n",
    "plt.ylabel('pop size')\n",
    "plt.legend()"
   ]
  },
  {
   "cell_type": "code",
   "execution_count": 407,
   "metadata": {},
   "outputs": [],
   "source": [
    "traj = odeint(partial(f2, z=z, zm=zm,Nu0 = Nu0, u =u), y0= [100, 100, 0], t=time)"
   ]
  },
  {
   "cell_type": "code",
   "execution_count": 408,
   "metadata": {},
   "outputs": [],
   "source": [
    "A, B = np.meshgrid(zm_val, u_val)"
   ]
  },
  {
   "cell_type": "code",
   "execution_count": 409,
   "metadata": {},
   "outputs": [
    {
     "data": {
      "text/plain": [
       "Text(1, 1, 'unfeasble')"
      ]
     },
     "execution_count": 409,
     "metadata": {},
     "output_type": "execute_result"
    },
    {
     "data": {
      "image/png": "[encoded data removed]",
      "text/plain": [
       "<Figure size 432x288 with 2 Axes>"
      ]
     },
     "metadata": {
      "needs_background": "light"
     },
     "output_type": "display_data"
    }
   ],
   "source": [
    "plt.pcolor(A, B,SS, cmap='tab20')\n",
    "plt.colorbar()\n",
    "plt.ylabel('trait z')\n",
    "plt.xlabel('diffusion u')\n",
    "plt.text(1,1, 'unfeasble', color='white', size=12)"
   ]
  },
  {
   "cell_type": "code",
   "execution_count": 27,
   "metadata": {},
   "outputs": [],
   "source": [
    "def taux_fm(zf, z, F,S):\n",
    "    taux = r*nm(zm,z,S,0,F)/(nm(zf,z,S,0,F) +hf)* 1/(1+ a(zf,z)*S+ a(zf,0)*F+W(zf)) - Lf(zf)\n",
    "    return taux\n",
    "\n",
    "def GradF(zm,z):\n",
    "    j = np.where(u_val >= u)[0][0]\n",
    "    i = np.where(zm_val >= z)[0][0] \n",
    "    S = SS[i,j]\n",
    "    F = FF[i,j] \n",
    "    der = (taux_sm(zm+H,z,F,S) - taux_sm(zm,z,F,S))/H\n",
    "    return der"
   ]
  },
  {
   "cell_type": "code",
   "execution_count": 28,
   "metadata": {},
   "outputs": [],
   "source": [
    "from scipy.misc import derivative"
   ]
  },
  {
   "cell_type": "code",
   "execution_count": 29,
   "metadata": {},
   "outputs": [],
   "source": [
    "H = 1e-6\n",
    "def taux_sm(zm, z, F,S):\n",
    "    taux = r*nm(zm,z,S,F,0)/(nm(zm,z,S,F,0) +hs)* 1/(1+ a(zm,z)*S+ a(zm,0)*F+W(zm)) - ls\n",
    "    return taux\n",
    "\n",
    "def GradF(zm,z):\n",
    "    j = np.where(u_val >= u)[0][0]\n",
    "    k = np.where(zm_val >= z)[0][0]\n",
    "    if popS[i,j] > 10 : \n",
    "        S = popS[k,j]\n",
    "        F = popF[k,j] \n",
    "        der = derivative(partial(taux_sm, z=z, F=F, S=S), zm, dx=10e-6)\n",
    "    else : \n",
    "        S = popS2[k,j]\n",
    "        F = popF2[k,j] \n",
    "        der = derivative(partial(taux_sm, z=z, F=F, S=S), zm, dx=10e-6)\n",
    "            \n",
    "    return der"
   ]
  },
  {
   "cell_type": "code",
   "execution_count": 30,
   "metadata": {},
   "outputs": [],
   "source": [
    "def GradF2(z,zm):\n",
    "    j = np.where(u_val >= u)[0][0]\n",
    "    k = np.where(zm_val >= z)[0][0]\n",
    "    if coex[k,j] ==5 or coex[k,j] == 3 : \n",
    "        if popS2[i,j] > 1 : \n",
    "            S = popS2[k,j]\n",
    "            F = popS2[k,j] \n",
    "            der = (taux_sm(zm+H,z,F,S) - taux_sm(zm,z,F,S))/H\n",
    "        else : \n",
    "            S = popS[k,j]\n",
    "            F = popS[k,j] \n",
    "            der = (taux_sm(zm+H,z,F,S) - taux_sm(zm,z,F,S))/H\n",
    "    else: \n",
    "        S = SS[k,j]\n",
    "        F = FF[k,j]\n",
    "        der = (taux_sm(zm+H,z,F,S) - taux_sm(zm,z,F,S))/H\n",
    "    return der"
   ]
  },
  {
   "cell_type": "code",
   "execution_count": 31,
   "metadata": {},
   "outputs": [],
   "source": [
    "def dzdzm(zm,z):\n",
    "    der = derivative(partial(dz, z=z), zm, dx=10e-6)\n",
    "    return der\n",
    "\n",
    "def dzmdzm(zm,z):\n",
    "    der = (GradF(zm+H,z) - GradF(zm,z))/H\n",
    "    return der\n",
    "\n",
    "def dz(zm,z):\n",
    "    der = (taux_sm(zm,z+H,F,S) - taux_sm(zm,z,F,S))/H\n",
    "    return der\n",
    "\n",
    "def dzdz(zm,z):\n",
    "    der2 = (dz(zm,z+H) - dz(zm,z))/H\n",
    "    return der2\n",
    "\n",
    "def dzmdz(zm,z):\n",
    "    der = (GradF(zm,z+H) - GradF(zm,z))/H\n",
    "    return der"
   ]
  },
  {
   "cell_type": "code",
   "execution_count": 32,
   "metadata": {},
   "outputs": [],
   "source": [
    "def dicho(f, a, b, eps=1e-8):\n",
    "    if f(a)*f(b) > 0 : \n",
    "        return 0  \n",
    "    else :\n",
    "        while abs(b-a) > eps:    \n",
    "            c = (a+b)/2\n",
    "            if f(a)*f(c) >= 0:\n",
    "                a=c\n",
    "            else:\n",
    "                b=c\n",
    "        return b  \n",
    "\n",
    "def grad(z):\n",
    "    return GradF(z,z)\n",
    "\n",
    "def grad2(z):\n",
    "    return GradF2(z,z)"
   ]
  },
  {
   "cell_type": "code",
   "execution_count": 33,
   "metadata": {},
   "outputs": [],
   "source": [
    "def sol(fonction) : \n",
    "    sol = 0\n",
    "    for i in range(99) : \n",
    "        x = zm_val[i]\n",
    "        x2 = zm_val[i+1]\n",
    "        val = fonction(x) \n",
    "        val2 = fonction(x2) \n",
    "        if  val*val2 < 0: \n",
    "            sol = x2\n",
    "    return sol       "
   ]
  },
  {
   "cell_type": "code",
   "execution_count": 34,
   "metadata": {
    "scrolled": true
   },
   "outputs": [],
   "source": [
    "singP = np.zeros(1000)\n",
    "\n",
    "for i in range(530):\n",
    "    u = u_val[i]\n",
    "    sing = dicho(grad,0.3,10)\n",
    "    singP[i]= sing\n",
    "\n",
    "for i in range(530,1000):\n",
    "    u = u_val[i]\n",
    "    sing = dicho(grad,1.5,10)\n",
    "    singP[i]= sing"
   ]
  },
  {
   "cell_type": "code",
   "execution_count": 35,
   "metadata": {},
   "outputs": [],
   "source": [
    "singP2 = np.zeros(1000)\n",
    "\n",
    "for i in range(450):\n",
    "    u = u_val[i]\n",
    "    sing = dicho(grad,0,10)\n",
    "    singP2[i]= sing\n",
    "\n",
    "    \n",
    "for i in range(449,1000):\n",
    "    u = u_val[i]\n",
    "    sing = dicho(grad,0,1)\n",
    "    singP2[i]= sing\n",
    "  "
   ]
  },
  {
   "cell_type": "code",
   "execution_count": 36,
   "metadata": {},
   "outputs": [],
   "source": [
    "stra= np.zeros(1000)\n",
    "for n in range(1000) : \n",
    "    u = u_val[n]\n",
    "    z = singP[n] \n",
    "    ess = dzmdzm(z, z)\n",
    "    css  = dzmdz(z,z)\n",
    "    if ess < 0 : \n",
    "        if css <=0 : \n",
    "            stra[n] = 4\n",
    "        else : \n",
    "            stra[n] = 1\n",
    "    elif css < 0 : \n",
    "        stra[n] = 3"
   ]
  },
  {
   "cell_type": "code",
   "execution_count": 37,
   "metadata": {},
   "outputs": [],
   "source": [
    "stra2= np.zeros(1000)\n",
    "for n in range(1000) : \n",
    "    u = u_val[n]\n",
    "    z = singP2[n] \n",
    "    ess = dzmdzm(z, z)\n",
    "    css  = dzmdz(z,z)\n",
    "    if ess < 0 : \n",
    "        if css <0 : \n",
    "            stra2[n] = 4\n",
    "        else : \n",
    "            stra2[n] = 1\n",
    "    elif css < 0 : \n",
    "        stra2[n] = 3"
   ]
  },
  {
   "cell_type": "code",
   "execution_count": 75,
   "metadata": {},
   "outputs": [
    {
     "data": {
      "image/png": "[encoded data removed]",
      "text/plain": [
       "<Figure size 432x288 with 1 Axes>"
      ]
     },
     "metadata": {
      "needs_background": "light"
     },
     "output_type": "display_data"
    }
   ],
   "source": [
    "u=7\n",
    "for i in range(100) :\n",
    "    z = zm_val[i]\n",
    "    to = GradF(z, z)\n",
    "    plt.scatter(z,to)\n",
    "plt.grid()"
   ]
  },
  {
   "cell_type": "code",
   "execution_count": 72,
   "metadata": {},
   "outputs": [
    {
     "data": {
      "text/plain": [
       "3.0303030340000987"
      ]
     },
     "execution_count": 72,
     "metadata": {},
     "output_type": "execute_result"
    }
   ],
   "source": [
    "singP[69]"
   ]
  },
  {
   "cell_type": "code",
   "execution_count": 155,
   "metadata": {},
   "outputs": [
    {
     "data": {
      "image/png": "[encoded data removed]",
      "text/plain": [
       "<Figure size 432x288 with 1 Axes>"
      ]
     },
     "metadata": {
      "needs_background": "light"
     },
     "output_type": "display_data"
    }
   ],
   "source": [
    "for i in range(100) :\n",
    "    u=u_val[i]\n",
    "    j = np.where(u_val >= u)[0][0]\n",
    "    zm = singP[i]\n",
    "    k = np.where(zm_val >= zm)[0][0]\n",
    "    S = SS[k,j]\n",
    "    F = FF[k,j]\n",
    "    to = dzmdzm(z, z, Nu0, u)\n",
    "    plt.scatter(u,to,c='black')\n",
    "plt.grid()\n"
   ]
  },
  {
   "cell_type": "code",
   "execution_count": 312,
   "metadata": {},
   "outputs": [],
   "source": [
    "zm_val = np.linspace(0,10,100)"
   ]
  },
  {
   "cell_type": "code",
   "execution_count": 313,
   "metadata": {
    "scrolled": true
   },
   "outputs": [
    {
     "name": "stderr",
     "output_type": "stream",
     "text": [
      "/home/vasilis.dakos/anaconda3/lib/python3.7/site-packages/scipy/optimize/minpack.py:162: RuntimeWarning: The iteration is not making good progress, as measured by the \n",
      "  improvement from the last five Jacobian evaluations.\n",
      "  warnings.warn(msg, RuntimeWarning)\n",
      "/home/vasilis.dakos/anaconda3/lib/python3.7/site-packages/scipy/optimize/minpack.py:162: RuntimeWarning: The iteration is not making good progress, as measured by the \n",
      "  improvement from the last ten iterations.\n",
      "  warnings.warn(msg, RuntimeWarning)\n",
      "/home/vasilis.dakos/anaconda3/lib/python3.7/site-packages/scipy/optimize/minpack.py:162: RuntimeWarning: xtol=0.000000 is too small, no further improvement in the approximate\n",
      "  solution is possible.\n",
      "  warnings.warn(msg, RuntimeWarning)\n"
     ]
    },
    {
     "data": {
      "text/plain": [
       "Text(0, 0.5, 'S')"
      ]
     },
     "execution_count": 313,
     "metadata": {},
     "output_type": "execute_result"
    },
    {
     "data": {
      "image/png": "[encoded data removed]",
      "text/plain": [
       "<Figure size 432x288 with 1 Axes>"
      ]
     },
     "metadata": {
      "needs_background": "light"
     },
     "output_type": "display_data"
    },
    {
     "data": {
      "image/png": "[encoded data removed]",
      "text/plain": [
       "<Figure size 432x288 with 1 Axes>"
      ]
     },
     "metadata": {
      "needs_background": "light"
     },
     "output_type": "display_data"
    }
   ],
   "source": [
    "w=0.1\n",
    "b=10\n",
    "Nu0 = 50\n",
    "u = 8\n",
    "for i in range(100) : \n",
    "    z = zm_val[i]\n",
    "    sol = op.fsolve(partial(F2, z = z,  u = u, Nu0 = Nu0), (3500,1000))\n",
    "    sol2 = op.fsolve(partial(F2, z = z,   u = u, Nu0 = Nu0), (0,1500))\n",
    "    sol3 = op.fsolve(partial(F2, z = z,   u = u, Nu0 = Nu0), (1500,1750))\n",
    "    sol4 = op.fsolve(partial(F2, z = z,  u = u, Nu0 = Nu0), (0,500))\n",
    "    sol5 = op.fsolve(partial(F2, z = z,   u = u, Nu0 = Nu0), (4000,0))\n",
    "    sol6 = op.fsolve(partial(F2, z = z,   u = u, Nu0 = Nu0), (500,1500))\n",
    "    sol7 = op.fsolve(partial(F2, z = z,  u = u, Nu0 = Nu0), (1000,1250))\n",
    "    \n",
    "    f_ = sol[1]\n",
    "    f_1= sol2[1]\n",
    "    f_2= sol3[1]\n",
    "    f_3= sol4[1]\n",
    "    f_4= sol5[1]\n",
    "    f_5= sol6[1]\n",
    "    f_6= sol7[1]\n",
    "    s_ = sol[0]\n",
    "    s_1= sol2[0]\n",
    "    s_2= sol3[0]\n",
    "    s_3= sol4[0]\n",
    "    s_4= sol5[0]\n",
    "    s_5= sol6[0]\n",
    "    s_6= sol7[0]\n",
    "    \n",
    "    vp = np.linalg.eigvals(jacF2(z, s_,f_, Nu0, u))\n",
    "    vp1 = np.linalg.eigvals(jacF2(z, s_1,f_1, Nu0, u))\n",
    "    vp2 = np.linalg.eigvals(jacF2(z, s_2,f_2, Nu0, u))\n",
    "    vp3 = np.linalg.eigvals(jacF2(z, s_3,f_3, Nu0, u))\n",
    "    vp4 = np.linalg.eigvals(jacF2(z, s_4,f_4, Nu0, u))\n",
    "    vp5 = np.linalg.eigvals(jacF2(z, s_5,f_5, Nu0, u))\n",
    "    vp6 = np.linalg.eigvals(jacF2(z, s_6,f_6, Nu0, u))\n",
    "    \n",
    "    \n",
    "    if np.all(vp < 0):\n",
    "        plt.figure(1)\n",
    "        plt.scatter(z, f_, c = 'r')\n",
    "        plt.figure(2)\n",
    "        plt.scatter(z, s_, c = 'r')\n",
    "    else: \n",
    "        plt.figure(1)\n",
    "        plt.scatter(z, f_, c = 'b')\n",
    "        plt.figure(2)\n",
    "        plt.scatter(z, s_, c = 'b')\n",
    "    if np.all(vp1 < 0):\n",
    "        plt.figure(1)\n",
    "        plt.scatter(z, f_1, c = 'r')\n",
    "        plt.figure(2)\n",
    "        plt.scatter(z, s_1, c = 'r')\n",
    "    else: \n",
    "        plt.figure(1)\n",
    "        plt.scatter(z, f_1, c = 'b')\n",
    "        plt.figure(2)\n",
    "        plt.scatter(z, s_1, c = 'b')\n",
    "    if np.all(vp2 < 0):\n",
    "        plt.figure(1)\n",
    "        plt.scatter(z, f_2, c = 'r')\n",
    "        plt.figure(2)\n",
    "        plt.scatter(z, s_2, c = 'r')\n",
    "    else: \n",
    "        plt.figure(1)\n",
    "        plt.scatter(z, f_2, c = 'b')\n",
    "        plt.figure(2)\n",
    "        plt.scatter(z, s_2, c = 'b')\n",
    "    if np.all(vp3 < 0):\n",
    "        plt.figure(1)\n",
    "        plt.scatter(z, f_3, c = 'r')\n",
    "        plt.figure(2)\n",
    "        plt.scatter(z, s_3, c = 'r')\n",
    "    else: \n",
    "        plt.figure(1)\n",
    "        plt.scatter(z, f_3, c = 'b')\n",
    "        plt.figure(2)\n",
    "        plt.scatter(z, s_3, c = 'b')\n",
    "    if np.all(vp4 < 0):\n",
    "        plt.figure(1)\n",
    "        plt.scatter(z, f_4, c = 'r')\n",
    "        plt.figure(2)\n",
    "        plt.scatter(z, s_4, c = 'r')\n",
    "    else: \n",
    "        plt.figure(1)\n",
    "        plt.scatter(z, f_4, c = 'b')\n",
    "        plt.figure(2)\n",
    "        plt.scatter(z, s_4, c = 'b')\n",
    "    if np.all(vp5 < 0):\n",
    "        plt.figure(1)\n",
    "        plt.scatter(z, f_5, c = 'r')\n",
    "        plt.figure(2)\n",
    "        plt.scatter(z, s_5, c = 'r')\n",
    "    else: \n",
    "        plt.figure(1)\n",
    "        plt.scatter(z, f_5, c = 'b')\n",
    "        plt.figure(2)\n",
    "        plt.scatter(z, s_5, c = 'b')\n",
    "    if np.all(vp6 < 0):\n",
    "        plt.figure(1)\n",
    "        plt.scatter(z, f_6, c = 'r')\n",
    "        plt.figure(2)\n",
    "        plt.scatter(z, s_6, c = 'r')\n",
    "    else:\n",
    "        plt.figure(1)\n",
    "        plt.scatter(z, f_6, c = 'b')\n",
    "        plt.figure(2)\n",
    "        plt.scatter(z, s_6, c = 'b')\n",
    "        \n",
    "plt.figure(1)\n",
    "plt.xlabel('u')\n",
    "plt.ylabel('F')\n",
    "plt.figure(2)\n",
    "plt.xlabel('u')\n",
    "plt.ylabel('S')"
   ]
  }
 ],
 "metadata": {
  "kernelspec": {
   "display_name": "Python 3",
   "language": "python",
   "name": "python3"
  },
  "language_info": {
   "codemirror_mode": {
    "name": "ipython",
    "version": 3
   },
   "file_extension": ".py",
   "mimetype": "text/x-python",
   "name": "python",
   "nbconvert_exporter": "python",
   "pygments_lexer": "ipython3",
   "version": "3.7.6"
  }
 },
 "nbformat": 4,
 "nbformat_minor": 5
}
