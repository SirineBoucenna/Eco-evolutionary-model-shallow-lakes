{
 "cells": [
  {
   "cell_type": "code",
   "execution_count": 1,
   "metadata": {},
   "outputs": [],
   "source": [
    "from functools import partial\n",
    "import numpy as np\n",
    "import scipy\n",
    "from scipy.integrate import odeint\n",
    "import matplotlib.pyplot as plt\n",
    "from scipy.integrate import dblquad\n",
    "from scipy.integrate import quad\n",
    "from matplotlib import colors as c\n",
    "import matplotlib as mpl\n",
    "from sklearn.mixture import GaussianMixture\n",
    "import gudhi as gd\n",
    "from copy import copy\n",
    "import matplotlib.colors as colors"
   ]
  },
  {
   "cell_type": "code",
   "execution_count": 3,
   "metadata": {},
   "outputs": [],
   "source": [
    "#Parameters \n",
    "\n",
    "b = 10\n",
    "p = 0.5\n",
    "a0= 0.01\n",
    "W0 = 1\n",
    "q0 = 0.005\n",
    "zb = 10\n",
    "hs = 0.1\n",
    "hf = 0.2\n",
    "rs = r = 0.5\n",
    "rf = 0.5\n",
    "ls = 0.5\n",
    "lf = 0.2\n",
    "\n",
    "maxl = 0.05\n",
    "minl = 0.1\n",
    "pl =10\n",
    "zt = 2"
   ]
  },
  {
   "cell_type": "code",
   "execution_count": 4,
   "metadata": {},
   "outputs": [],
   "source": [
    "#Defining function \n",
    "\n",
    "def a(z,zm):\n",
    "    a = 2*a0 * np.exp(b*(z-zm))/(1+np.exp(b*(z-zm)) )\n",
    "    return(a)\n",
    "\n",
    "def q(z):\n",
    "    q = q0* np.exp(p*z)\n",
    "    return q\n",
    "\n",
    "def W(z):\n",
    "    W = W0*np.exp(w*z)- W0\n",
    "    return W\n",
    "\n",
    "def Ls(z) : \n",
    "    res = maxl -(maxl-minl)*zt**pl/(z**pl + zt**pl)\n",
    "    return res\n",
    "\n",
    "def Lf(z) : \n",
    "    res = minl -(minl-maxl)*zt**pl/(z**pl + zt**pl)\n",
    "    return res\n",
    "\n",
    "def nm(zm, z,zf, S,F,Sm, Nu0, u):\n",
    "    res = Nu(zm,Nu0, u)/(1 + q(z)*S + q(zm)*Sm + q(zf)*F)\n",
    "    return res\n",
    "\n",
    "def n(z,zf, zm, S,F,Sm, Nu0, u):\n",
    "    res = Nu(z, Nu0, u)/(1 + q(z)*S + q(zm)*Sm + q(zf)*F)\n",
    "    return res\n",
    "\n",
    "def nf(z,zf, zm, S,F,Sm,Nu0, u):\n",
    "    res = Nu2(zf, Nu0, u)/(1 + q(z)*S + q(zm)*Sm + q(zf)*F)\n",
    "    return res\n",
    "\n",
    "def Nu(z,Nu0, u):\n",
    "    nu = (Nu0 / (u* np.sqrt(2*np.pi))) * np.exp(-(zb-z)**2/(u**2))\n",
    "    return nu\n",
    "\n",
    "def f(pop,t,z,zf,zm,Nu0,u):\n",
    "    S = pop[0]\n",
    "    F = pop[1]\n",
    "    Sm = pop[2]\n",
    "    f0 =  r*S*n(z,zf,zm,S,F,Sm, Nu0, u)/(n(z,zf,zm,S,F,Sm, Nu0, u) +hs)* 1/(1+ a(z,z)*S+a(z,zm)*Sm+ a(z,zf)*F+W(z)) - Ls(z) *S\n",
    "    f1 =  r*F*nf(z,zf,zm,S,F,Sm, Nu0, u)/(nf(z,zf,zm,S,F,Sm, Nu0, u) + hf)* 1/(1+ a(zf,z)*S+a(0,0)*F+W(zf)) - Lf(zf)*F\n",
    "    f2= r*Sm*nm2(zm,z,zf,S,F,Sm, Nu0, u)/(nm(zm,z,zf,S,F,Sm, Nu0, u) +hs)* 1/(1+ a(zm,z)*S+a(zm,zm)*Sm+ a(zm,0)*F+W(zm)) - Ls(zm)*Sm\n",
    "    f = [f0, f1,f2]\n",
    "    return f"
   ]
  },
  {
   "cell_type": "code",
   "execution_count": 19,
   "metadata": {},
   "outputs": [],
   "source": [
    "T = 20000 #number of time steps\n",
    "dt = 1 #size of time steps\n",
    "\n",
    "N = int(T/dt)\n",
    "\n",
    "NX = 100 \n",
    "\n",
    "u_val = np.linspace(0.5,10,100)\n",
    "\n",
    "sigma2 = 0.05\n",
    "\n",
    "epsilon = 0\n",
    "\n",
    "time = np.linspace(0, 50000, 100)\n",
    "\n",
    "def normale(x, sigma2) : #Gaussian distribution\n",
    "    dens = 1/(np.sqrt(sigma2)*np.sqrt(2*np.pi)) *np.exp(-x**2/(2*sigma2))\n",
    "    return dens \n"
   ]
  },
  {
   "cell_type": "code",
   "execution_count": 20,
   "metadata": {},
   "outputs": [],
   "source": [
    "#Choice of parameters\n",
    "w=0.1\n",
    "Nu0= 50\n",
    "z0=zm = 8 #initial mean trait \n",
    "u=7\n",
    "Z = np.linspace(0,zb,NX)\n",
    "S = np.zeros((N,NX))\n",
    "popF = np.zeros(N)\n",
    "I = normale(Z-z0 , sigma2)\n",
    "traj = odeint(partial(f2, z=z0, zf=0,zm=zm,Nu0 = Nu0, u =u), y0= [100, 10, 0], t=time)\n",
    "S0 = traj[-1,0] \n",
    "F = traj[-1,1] + 0.1 #Initial pop of floating at ecological equilibrium (+ 0.1 if absent in order to grow later)\n",
    "S[0,:] = I + 0.01 #Initial condition of submerged macro (Normal distribution + seeding)\n",
    "S[0,10*z0] = 10*S0 #Initial mean trait pop size at ecological equilibrium\n",
    "popF[0]=F"
   ]
  },
  {
   "cell_type": "code",
   "execution_count": 21,
   "metadata": {
    "scrolled": true
   },
   "outputs": [
    {
     "data": {
      "image/png": "[encoded data removed]",
      "text/plain": [
       "<Figure size 432x288 with 1 Axes>"
      ]
     },
     "metadata": {
      "needs_background": "light"
     },
     "output_type": "display_data"
    }
   ],
   "source": [
    "#Main code : Explicit euler method for the strcutrued population model evolution\n",
    "for n in range(N-1) : \n",
    "    s = sum(S[n,:])*zb/NX\n",
    "    z =  sum( Z *S[n,:])  / (sum(S[n,:]))\n",
    "    F = odeint(partial(F2, S = s, z = z, Nu0= Nu0, u=u ), y0 = F, t=[n, n+1])[-1]\n",
    "    popF[n] = F \n",
    "    for j in range(1,NX) : \n",
    "        z = Z[j]\n",
    "        G = ( r* (Nu2(z, Nu0,u)/(Nu2(z, Nu0, u) + hs*(1+ sum(q(Z)* S[n,:])*zb/NX + q(0)*F))) *1/(1+ sum(a(z,Z)* S[n,:])*zb/NX+ a(z,0)*F + W(z)) - Ls(z) - epsilon  )\n",
    "        A = G* S[n,j]\n",
    "        B = epsilon * sum(normale(z-Z, sigma2)*S[n,:])*zb/NX\n",
    "        S[n+1,j] = (S[n,j] +dt*(A+B))\n",
    "    plotlabel = \"t = %1.2f\" %(n * dt)  \n",
    "    plt.figure(1)\n",
    "    plt.plot(Z,S[n,:], label=plotlabel,color = plt.get_cmap('copper')(float(n)/N))\n",
    "\n"
   ]
  },
  {
   "cell_type": "code",
   "execution_count": null,
   "metadata": {},
   "outputs": [],
   "source": [
    "#Initial and final disctribution of the population S\n",
    "plt.plot(Z, S[0,:]/max(S[0,:]), color ='red', label = 'initial')\n",
    "plt.plot(Z, S[-1,:]/max(S[0,:]), color ='red', label = 'final')\n",
    "plt.xlabel('trait z')\n",
    "plt.legend()"
   ]
  },
  {
   "cell_type": "code",
   "execution_count": null,
   "metadata": {},
   "outputs": [],
   "source": [
    "#Evolution of total population size of S and F\n",
    "plt.figure(1)\n",
    "plt.plot(range(N),(sum(np.transpose(S))*zb/NX), label= 'pop S', c='r')\n",
    "plt.plot(range(N-1), popF[:N-1], label= 'pop F', c='blue')\n",
    "plt.xlabel('time')\n",
    "plt.ylabel('population size')\n",
    "plt.legend()\n",
    "plt.ylabel('population size')"
   ]
  },
  {
   "cell_type": "code",
   "execution_count": 53,
   "metadata": {},
   "outputs": [
    {
     "data": {
      "text/plain": [
       "Text(0.5, 1.0, 'Pop S distributions')"
      ]
     },
     "execution_count": 53,
     "metadata": {},
     "output_type": "execute_result"
    },
    {
     "data": {
      "image/png": "[encoded data removed]",
      "text/plain": [
       "<Figure size 432x288 with 1 Axes>"
      ]
     },
     "metadata": {
      "needs_background": "light"
     },
     "output_type": "display_data"
    }
   ],
   "source": [
    "#Distribution of S at specific time \n",
    "for i in [200,40000,47000,51500] : \n",
    "    if sum(S[i,:])/10 > 0.5 :\n",
    "        plt.plot(Z , S[i,:]/sum(S[i,:]),label='t=' + str(i), linewidth=2)\n",
    "    else : \n",
    "        plt.plot(Z , S[i,:]/100, label='t='+ str(i), linewidth=2)\n",
    "    plt.legend()\n",
    "plt.xlabel('trait z')\n",
    "plt.title('Pop S distributions')"
   ]
  },
  {
   "cell_type": "code",
   "execution_count": null,
   "metadata": {},
   "outputs": [],
   "source": [
    "#Diagram of traits emergence of S \n",
    "TRAITS = np.zeros((NX,N))\n",
    "for j in range(N) : \n",
    "    for i in range(30) : \n",
    "        TRAITS[5*i+1:5*i+5,j] = sum(S[j,5*i+1:5*i+5])/10.\n",
    "        \n",
    "        \n",
    "palette = copy(plt.get_cmap('Reds'))\n",
    "palette.set_under('white',1.0)\n",
    "\n",
    "levels = np.arange(0, max(map(max, TRAITS)), 10)\n",
    "levels[0] = 2\n",
    "\n",
    "norm = colors.BoundaryNorm(levels, ncolors=palette.N)\n",
    "fig = plt.figure()\n",
    "ax = fig.add_subplot()\n",
    "ax.imshow(TRAITS, cmap=palette,norm=norm,extent =[ 0,N,10,0],aspect='auto')\n",
    "ax.autoscale(False)\n",
    "plt.xlabel('time')\n",
    "plt.ylabel('trait z')\n",
    "plt.title('Presence of traits through time')\n",
    "plt.colorbar()"
   ]
  },
  {
   "cell_type": "code",
   "execution_count": 51,
   "metadata": {},
   "outputs": [
    {
     "data": {
      "text/plain": [
       "Text(0, 0.5, 'S')"
      ]
     },
     "execution_count": 51,
     "metadata": {},
     "output_type": "execute_result"
    },
    {
     "data": {
      "image/png": "[encoded data removed]",
      "text/plain": [
       "<Figure size 432x288 with 1 Axes>"
      ]
     },
     "metadata": {
      "needs_background": "light"
     },
     "output_type": "display_data"
    }
   ],
   "source": [
    "plt.plot(popF,(sum(np.transpose(S))*zb/NX))\n",
    "plt.xlabel('F')\n",
    "plt.ylabel('S')"
   ]
  },
  {
   "cell_type": "code",
   "execution_count": 71,
   "metadata": {},
   "outputs": [],
   "source": [
    "#Determine final mean and median trait of S\n",
    "II = []\n",
    "for i in np.arange(len(S[-1,:])):\n",
    "    if int(S[-1,i]) > 0:\n",
    "        for k in np.arange(int(S[-1,i])):\n",
    "            II.append(Z[i])\n",
    "np.mean(II)\n",
    "np.median(II)"
   ]
  }
 ],
 "metadata": {
  "kernelspec": {
   "display_name": "Python 3",
   "language": "python",
   "name": "python3"
  },
  "language_info": {
   "codemirror_mode": {
    "name": "ipython",
    "version": 3
   },
   "file_extension": ".py",
   "mimetype": "text/x-python",
   "name": "python",
   "nbconvert_exporter": "python",
   "pygments_lexer": "ipython3",
   "version": "3.7.6"
  }
 },
 "nbformat": 4,
 "nbformat_minor": 4
}
